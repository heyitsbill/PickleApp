{
  "nbformat": 4,
  "nbformat_minor": 0,
  "metadata": {
    "colab": {
      "provenance": [],
      "gpuType": "T4"
    },
    "kernelspec": {
      "name": "python3",
      "display_name": "Python 3"
    },
    "language_info": {
      "name": "python"
    },
    "accelerator": "GPU"
  },
  "cells": [
    {
      "cell_type": "code",
      "execution_count": null,
      "metadata": {
        "id": "mVFNuFFT5GEE"
      },
      "outputs": [],
      "source": [
        "import numpy as np\n",
        "import tensorflow as tf\n",
        "import matplotlib.pyplot as plt\n",
        "import os\n",
        "import pandas as pd"
      ]
    },
    {
      "cell_type": "code",
      "source": [
        "os.chdir('/content/drive/MyDrive/Pickleapp/224x224_sized')"
      ],
      "metadata": {
        "id": "q-kcIur71z3R"
      },
      "execution_count": null,
      "outputs": []
    },
    {
      "cell_type": "code",
      "source": [
        "X_train = np.load(\"train_X.npy\")\n",
        "y_train = np.load(\"train_y.npy\")\n",
        "X_test = np.load(\"test_X.npy\")\n",
        "y_test = np.load(\"test_y.npy\")\n",
        "X_test_noaug = np.load(\"noaug_test_X.npy\")\n",
        "y_test_noaug = np.load(\"noaug_test_y.npy\")\n",
        "right_X_train = np.load(\"right_orient_train_X.npy\")\n",
        "right_y_train = np.load(\"right_orient_train_y.npy\")\n",
        "right_X_test = np.load(\"right_orient_test_X.npy\")\n",
        "right_y_test = np.load(\"right_orient_test_y.npy\")\n"
      ],
      "metadata": {
        "id": "RvOUeJsv51OR"
      },
      "execution_count": null,
      "outputs": []
    },
    {
      "cell_type": "code",
      "source": [
        "shape = (224, 224, 3)\n",
        "points = [1,2,3,4,5,6]\n",
        "# points = [1]\n",
        "point_cols = [(2 * (p-1), 2 * (p-1) + 1) for p in points]\n",
        "point_cols = np.array(point_cols).flatten()\n",
        "num_points = len(points) * 2\n",
        "\n",
        "y_train = y_train[:, point_cols]\n",
        "y_test = y_test[:, point_cols]\n",
        "y_test_noaug = y_test_noaug[:, point_cols]\n",
        "right_y_train = right_y_train[:, point_cols]\n",
        "right_y_test = right_y_test[:, point_cols]\n"
      ],
      "metadata": {
        "id": "gbgSfjg__Otx"
      },
      "execution_count": null,
      "outputs": []
    },
    {
      "cell_type": "code",
      "source": [
        "bm = tf.keras.applications.MobileNetV3Small(\n",
        "    include_top=False,\n",
        "    weights=\"imagenet\",\n",
        "    input_shape=shape,\n",
        ")\n",
        "bm.trainable=False"
      ],
      "metadata": {
        "id": "zTXrvayQ6HUe"
      },
      "execution_count": null,
      "outputs": []
    },
    {
      "cell_type": "code",
      "source": [
        "inputs = tf.keras.Input(shape=shape)\n",
        "x = bm(inputs, training=False)\n",
        "# x.trainable = False\n",
        "# x = tf.keras.layers.Conv2D(256, (3, 3), activation='tanh')(x)\n",
        "x = tf.keras.layers.Flatten()(x)\n",
        "x = tf.keras.layers.Dropout(0.2)(x)\n",
        "x = tf.keras.layers.Dense(num_points, activation = 'relu')(x)\n",
        "model = tf.keras.Model(inputs=inputs, outputs=x)\n",
        "model.summary()"
      ],
      "metadata": {
        "colab": {
          "base_uri": "https://localhost:8080/"
        },
        "id": "2ld0dbPn6QlL",
        "outputId": "b4fc2093-56cc-40be-a338-6bf7da73e26e"
      },
      "execution_count": null,
      "outputs": [
        {
          "output_type": "stream",
          "name": "stdout",
          "text": [
            "Model: \"model_4\"\n",
            "_________________________________________________________________\n",
            " Layer (type)                Output Shape              Param #   \n",
            "=================================================================\n",
            " input_12 (InputLayer)       [(None, 224, 224, 3)]     0         \n",
            "                                                                 \n",
            " MobilenetV3small (Function  (None, 7, 7, 576)         939120    \n",
            " al)                                                             \n",
            "                                                                 \n",
            " flatten_4 (Flatten)         (None, 28224)             0         \n",
            "                                                                 \n",
            " dropout_4 (Dropout)         (None, 28224)             0         \n",
            "                                                                 \n",
            " dense_4 (Dense)             (None, 12)                338700    \n",
            "                                                                 \n",
            "=================================================================\n",
            "Total params: 1277820 (4.87 MB)\n",
            "Trainable params: 338700 (1.29 MB)\n",
            "Non-trainable params: 939120 (3.58 MB)\n",
            "_________________________________________________________________\n"
          ]
        }
      ]
    },
    {
      "cell_type": "code",
      "source": [
        "def average_distance_loss(y_true, y_pred):\n",
        "    \"\"\"\n",
        "    Custom loss function to calculate the average distance between predicted and target coordinates for 6 points.\n",
        "\n",
        "    Parameters:\n",
        "    - y_true: Tensor of shape (batch_size, 12), representing the target coordinates.\n",
        "    - y_pred: Tensor of shape (batch_size, 12), representing the predicted coordinates.\n",
        "\n",
        "    Returns:\n",
        "    - loss: Tensor representing the average distance loss.\n",
        "    \"\"\"\n",
        "    # Reshape the tensors to (batch_size, 6, 2) for easy indexing of coordinates\n",
        "    # print(y_true)\n",
        "    # print(y_pred)\n",
        "    y_true = tf.reshape(y_true, (-1, 6, 2))\n",
        "    y_pred = tf.reshape(y_pred, (-1, 6, 2))\n",
        "\n",
        "    # Calculate Euclidean distance between each pair of coordinates\n",
        "    distances = tf.norm(y_true - y_pred, axis=-1)\n",
        "    # print(distances)\n",
        "    # Calculate the average distance across all coordinates and batches\n",
        "    loss = tf.reduce_mean(distances)\n",
        "\n",
        "    return loss"
      ],
      "metadata": {
        "id": "Guc8hN_bvYrk"
      },
      "execution_count": null,
      "outputs": []
    },
    {
      "cell_type": "code",
      "source": [
        "model.compile(optimizer=tf.keras.optimizers.Adam(learning_rate=1e-4),\n",
        "                loss=average_distance_loss,\n",
        "                metrics=['mae'])"
      ],
      "metadata": {
        "id": "GzRe-60O6TtB"
      },
      "execution_count": null,
      "outputs": []
    },
    {
      "cell_type": "code",
      "source": [
        "print(len(X_train), len(X_test))"
      ],
      "metadata": {
        "colab": {
          "base_uri": "https://localhost:8080/"
        },
        "id": "7B8tHWAS48Kz",
        "outputId": "64a966e0-6679-4149-e472-61725e7335fc"
      },
      "execution_count": null,
      "outputs": [
        {
          "output_type": "stream",
          "name": "stdout",
          "text": [
            "1428 372\n"
          ]
        }
      ]
    },
    {
      "cell_type": "code",
      "source": [
        "callback = tf.keras.callbacks.EarlyStopping('val_loss', patience=10, restore_best_weights = True)\n",
        "np.random.seed(42)\n",
        "model.fit(X_train, y_train, epochs = 400, batch_size = 32, validation_data=(X_test, y_test), callbacks = [callback])"
      ],
      "metadata": {
        "colab": {
          "base_uri": "https://localhost:8080/"
        },
        "id": "O6tI6IJu4zV6",
        "outputId": "3f78e73d-aac5-4d0a-ee03-ec1aaa3b2018"
      },
      "execution_count": null,
      "outputs": [
        {
          "output_type": "stream",
          "name": "stdout",
          "text": [
            "Epoch 1/400\n",
            "45/45 [==============================] - 7s 55ms/step - loss: 1092.0453 - mae: 725.0759 - val_loss: 1063.6188 - val_mae: 703.4109\n",
            "Epoch 2/400\n",
            "45/45 [==============================] - 1s 27ms/step - loss: 1027.8732 - mae: 677.1150 - val_loss: 1000.7183 - val_mae: 656.3821\n",
            "Epoch 3/400\n",
            "45/45 [==============================] - 1s 27ms/step - loss: 965.0141 - mae: 630.1209 - val_loss: 939.1167 - val_mae: 610.4673\n",
            "Epoch 4/400\n",
            "45/45 [==============================] - 1s 29ms/step - loss: 903.2654 - mae: 584.0753 - val_loss: 878.6795 - val_mae: 565.5934\n",
            "Epoch 5/400\n",
            "45/45 [==============================] - 1s 27ms/step - loss: 842.9393 - mae: 539.1505 - val_loss: 819.5011 - val_mae: 521.8054\n",
            "Epoch 6/400\n",
            "45/45 [==============================] - 1s 27ms/step - loss: 783.6796 - mae: 495.1193 - val_loss: 761.7922 - val_mae: 479.0654\n",
            "Epoch 7/400\n",
            "45/45 [==============================] - 1s 29ms/step - loss: 726.3183 - mae: 452.6344 - val_loss: 705.8268 - val_mae: 437.6539\n",
            "Epoch 8/400\n",
            "45/45 [==============================] - 1s 32ms/step - loss: 670.3214 - mae: 411.6406 - val_loss: 651.6260 - val_mae: 397.8796\n",
            "Epoch 9/400\n",
            "45/45 [==============================] - 1s 33ms/step - loss: 616.5538 - mae: 372.7760 - val_loss: 599.3193 - val_mae: 360.0360\n",
            "Epoch 10/400\n",
            "45/45 [==============================] - 1s 32ms/step - loss: 564.9164 - mae: 336.1635 - val_loss: 549.1447 - val_mae: 324.4938\n",
            "Epoch 11/400\n",
            "45/45 [==============================] - 1s 32ms/step - loss: 515.8245 - mae: 302.3270 - val_loss: 502.0935 - val_mae: 292.3461\n",
            "Epoch 12/400\n",
            "45/45 [==============================] - 1s 28ms/step - loss: 470.4370 - mae: 272.1573 - val_loss: 458.5459 - val_mae: 263.6425\n",
            "Epoch 13/400\n",
            "45/45 [==============================] - 1s 27ms/step - loss: 428.2059 - mae: 244.9563 - val_loss: 418.7046 - val_mae: 238.4995\n",
            "Epoch 14/400\n",
            "45/45 [==============================] - 1s 29ms/step - loss: 391.3939 - mae: 222.2076 - val_loss: 383.2055 - val_mae: 216.8194\n",
            "Epoch 15/400\n",
            "45/45 [==============================] - 1s 29ms/step - loss: 358.7795 - mae: 202.6912 - val_loss: 352.5219 - val_mae: 198.7614\n",
            "Epoch 16/400\n",
            "45/45 [==============================] - 1s 27ms/step - loss: 330.8271 - mae: 186.4562 - val_loss: 326.5977 - val_mae: 183.8510\n",
            "Epoch 17/400\n",
            "45/45 [==============================] - 1s 29ms/step - loss: 307.4446 - mae: 173.2700 - val_loss: 304.4021 - val_mae: 171.3756\n",
            "Epoch 18/400\n",
            "45/45 [==============================] - 1s 29ms/step - loss: 287.2893 - mae: 162.0215 - val_loss: 285.2976 - val_mae: 160.7750\n",
            "Epoch 19/400\n",
            "45/45 [==============================] - 1s 30ms/step - loss: 269.8454 - mae: 152.4528 - val_loss: 268.5860 - val_mae: 151.5954\n",
            "Epoch 20/400\n",
            "45/45 [==============================] - 1s 31ms/step - loss: 254.1431 - mae: 143.7606 - val_loss: 253.5865 - val_mae: 143.3862\n",
            "Epoch 21/400\n",
            "45/45 [==============================] - 1s 33ms/step - loss: 240.7773 - mae: 136.4596 - val_loss: 239.9492 - val_mae: 135.9232\n",
            "Epoch 22/400\n",
            "45/45 [==============================] - 2s 34ms/step - loss: 227.2482 - mae: 128.9726 - val_loss: 227.2540 - val_mae: 129.0504\n",
            "Epoch 23/400\n",
            "45/45 [==============================] - 2s 34ms/step - loss: 215.0438 - mae: 122.3192 - val_loss: 215.4020 - val_mae: 122.5909\n",
            "Epoch 24/400\n",
            "45/45 [==============================] - 1s 32ms/step - loss: 204.1958 - mae: 116.4421 - val_loss: 204.1565 - val_mae: 116.5063\n",
            "Epoch 25/400\n",
            "45/45 [==============================] - 1s 29ms/step - loss: 193.0822 - mae: 110.4519 - val_loss: 193.5691 - val_mae: 110.7635\n",
            "Epoch 26/400\n",
            "45/45 [==============================] - 1s 30ms/step - loss: 182.7146 - mae: 104.8581 - val_loss: 183.2982 - val_mae: 105.2232\n",
            "Epoch 27/400\n",
            "45/45 [==============================] - 1s 29ms/step - loss: 172.9725 - mae: 99.4189 - val_loss: 173.7568 - val_mae: 100.0516\n",
            "Epoch 28/400\n",
            "45/45 [==============================] - 1s 28ms/step - loss: 163.5936 - mae: 94.3457 - val_loss: 164.8318 - val_mae: 95.1842\n",
            "Epoch 29/400\n",
            "45/45 [==============================] - 1s 30ms/step - loss: 155.1539 - mae: 89.7614 - val_loss: 156.4521 - val_mae: 90.6461\n",
            "Epoch 30/400\n",
            "45/45 [==============================] - 1s 27ms/step - loss: 147.0434 - mae: 85.3514 - val_loss: 148.6979 - val_mae: 86.4346\n",
            "Epoch 31/400\n",
            "45/45 [==============================] - 1s 27ms/step - loss: 139.4792 - mae: 81.0169 - val_loss: 141.4653 - val_mae: 82.4596\n",
            "Epoch 32/400\n",
            "45/45 [==============================] - 1s 30ms/step - loss: 132.5007 - mae: 77.2348 - val_loss: 134.9365 - val_mae: 78.8600\n",
            "Epoch 33/400\n",
            "45/45 [==============================] - 2s 39ms/step - loss: 126.0075 - mae: 73.6878 - val_loss: 128.6752 - val_mae: 75.4118\n",
            "Epoch 34/400\n",
            "45/45 [==============================] - 2s 41ms/step - loss: 120.3816 - mae: 70.5262 - val_loss: 122.9446 - val_mae: 72.2526\n",
            "Epoch 35/400\n",
            "45/45 [==============================] - 2s 41ms/step - loss: 114.5799 - mae: 67.3241 - val_loss: 117.5851 - val_mae: 69.3143\n",
            "Epoch 36/400\n",
            "45/45 [==============================] - 2s 38ms/step - loss: 109.5828 - mae: 64.5145 - val_loss: 112.5558 - val_mae: 66.5294\n",
            "Epoch 37/400\n",
            "45/45 [==============================] - 1s 29ms/step - loss: 104.5107 - mae: 61.7089 - val_loss: 107.8834 - val_mae: 63.9474\n",
            "Epoch 38/400\n",
            "45/45 [==============================] - 1s 27ms/step - loss: 100.3381 - mae: 59.3893 - val_loss: 103.4927 - val_mae: 61.4895\n",
            "Epoch 39/400\n",
            "45/45 [==============================] - 1s 27ms/step - loss: 96.0153 - mae: 56.9878 - val_loss: 99.3921 - val_mae: 59.2103\n",
            "Epoch 40/400\n",
            "45/45 [==============================] - 1s 30ms/step - loss: 92.1528 - mae: 54.7876 - val_loss: 95.6711 - val_mae: 57.1510\n",
            "Epoch 41/400\n",
            "45/45 [==============================] - 1s 27ms/step - loss: 89.0538 - mae: 53.0575 - val_loss: 92.2082 - val_mae: 55.1989\n",
            "Epoch 42/400\n",
            "45/45 [==============================] - 1s 27ms/step - loss: 85.0901 - mae: 50.7385 - val_loss: 89.0352 - val_mae: 53.4381\n",
            "Epoch 43/400\n",
            "45/45 [==============================] - 1s 29ms/step - loss: 81.8545 - mae: 48.9009 - val_loss: 86.0958 - val_mae: 51.7656\n",
            "Epoch 44/400\n",
            "45/45 [==============================] - 1s 32ms/step - loss: 79.3967 - mae: 47.5530 - val_loss: 83.4629 - val_mae: 50.2832\n",
            "Epoch 45/400\n",
            "45/45 [==============================] - 1s 32ms/step - loss: 77.1992 - mae: 46.3087 - val_loss: 80.9734 - val_mae: 48.8662\n",
            "Epoch 46/400\n",
            "45/45 [==============================] - 1s 31ms/step - loss: 74.4610 - mae: 44.6870 - val_loss: 78.8350 - val_mae: 47.6511\n",
            "Epoch 47/400\n",
            "45/45 [==============================] - 2s 34ms/step - loss: 72.2499 - mae: 43.4672 - val_loss: 76.7399 - val_mae: 46.4484\n",
            "Epoch 48/400\n",
            "45/45 [==============================] - 1s 28ms/step - loss: 70.8721 - mae: 42.6763 - val_loss: 74.8406 - val_mae: 45.3619\n",
            "Epoch 49/400\n",
            "45/45 [==============================] - 1s 29ms/step - loss: 68.5059 - mae: 41.3111 - val_loss: 73.1251 - val_mae: 44.3521\n",
            "Epoch 50/400\n",
            "45/45 [==============================] - 1s 26ms/step - loss: 66.5317 - mae: 40.1317 - val_loss: 71.5319 - val_mae: 43.4148\n",
            "Epoch 51/400\n",
            "45/45 [==============================] - 1s 29ms/step - loss: 65.7067 - mae: 39.6582 - val_loss: 69.9949 - val_mae: 42.5166\n",
            "Epoch 52/400\n",
            "45/45 [==============================] - 1s 29ms/step - loss: 64.0627 - mae: 38.6465 - val_loss: 68.7024 - val_mae: 41.7522\n",
            "Epoch 53/400\n",
            "45/45 [==============================] - 1s 29ms/step - loss: 62.5876 - mae: 37.7789 - val_loss: 67.3986 - val_mae: 40.9772\n",
            "Epoch 54/400\n",
            "45/45 [==============================] - 1s 30ms/step - loss: 61.4266 - mae: 37.1461 - val_loss: 66.2188 - val_mae: 40.2827\n",
            "Epoch 55/400\n",
            "45/45 [==============================] - 1s 27ms/step - loss: 60.6122 - mae: 36.6383 - val_loss: 65.1070 - val_mae: 39.6216\n",
            "Epoch 56/400\n",
            "45/45 [==============================] - 1s 32ms/step - loss: 58.8849 - mae: 35.5595 - val_loss: 64.0758 - val_mae: 39.0181\n",
            "Epoch 57/400\n",
            "45/45 [==============================] - 1s 32ms/step - loss: 57.7871 - mae: 34.9326 - val_loss: 63.0675 - val_mae: 38.4249\n",
            "Epoch 58/400\n",
            "45/45 [==============================] - 1s 33ms/step - loss: 57.8562 - mae: 35.0607 - val_loss: 62.0952 - val_mae: 37.8582\n",
            "Epoch 59/400\n",
            "45/45 [==============================] - 1s 32ms/step - loss: 56.8666 - mae: 34.4255 - val_loss: 61.2564 - val_mae: 37.3790\n",
            "Epoch 60/400\n",
            "45/45 [==============================] - 1s 30ms/step - loss: 55.9021 - mae: 33.8725 - val_loss: 60.4104 - val_mae: 36.8868\n",
            "Epoch 61/400\n",
            "45/45 [==============================] - 1s 27ms/step - loss: 53.7348 - mae: 32.5842 - val_loss: 59.5944 - val_mae: 36.4196\n",
            "Epoch 62/400\n",
            "45/45 [==============================] - 1s 30ms/step - loss: 53.7601 - mae: 32.5451 - val_loss: 58.8637 - val_mae: 35.9925\n",
            "Epoch 63/400\n",
            "45/45 [==============================] - 1s 27ms/step - loss: 53.0966 - mae: 32.1902 - val_loss: 58.0717 - val_mae: 35.5251\n",
            "Epoch 64/400\n",
            "45/45 [==============================] - 1s 28ms/step - loss: 52.4268 - mae: 31.8140 - val_loss: 57.3838 - val_mae: 35.1454\n",
            "Epoch 65/400\n",
            "45/45 [==============================] - 1s 27ms/step - loss: 51.3563 - mae: 31.1594 - val_loss: 56.6939 - val_mae: 34.7340\n",
            "Epoch 66/400\n",
            "45/45 [==============================] - 1s 27ms/step - loss: 51.0705 - mae: 31.0399 - val_loss: 56.0526 - val_mae: 34.3595\n",
            "Epoch 67/400\n",
            "45/45 [==============================] - 1s 29ms/step - loss: 50.0238 - mae: 30.4236 - val_loss: 55.4306 - val_mae: 33.9990\n",
            "Epoch 68/400\n",
            "45/45 [==============================] - 1s 29ms/step - loss: 49.1501 - mae: 29.8599 - val_loss: 54.7958 - val_mae: 33.6205\n",
            "Epoch 69/400\n",
            "45/45 [==============================] - 1s 33ms/step - loss: 49.0332 - mae: 29.8275 - val_loss: 54.2271 - val_mae: 33.2997\n",
            "Epoch 70/400\n",
            "45/45 [==============================] - 1s 33ms/step - loss: 48.0049 - mae: 29.1473 - val_loss: 53.6520 - val_mae: 32.9521\n",
            "Epoch 71/400\n",
            "45/45 [==============================] - 1s 33ms/step - loss: 47.8067 - mae: 29.1449 - val_loss: 53.1417 - val_mae: 32.6740\n",
            "Epoch 72/400\n",
            "45/45 [==============================] - 1s 33ms/step - loss: 47.5860 - mae: 28.9993 - val_loss: 52.6368 - val_mae: 32.3712\n",
            "Epoch 73/400\n",
            "45/45 [==============================] - 1s 27ms/step - loss: 46.6088 - mae: 28.3767 - val_loss: 52.1479 - val_mae: 32.0734\n",
            "Epoch 74/400\n",
            "45/45 [==============================] - 1s 27ms/step - loss: 46.3593 - mae: 28.2463 - val_loss: 51.6179 - val_mae: 31.7477\n",
            "Epoch 75/400\n",
            "45/45 [==============================] - 1s 29ms/step - loss: 45.3070 - mae: 27.6383 - val_loss: 51.2055 - val_mae: 31.5177\n",
            "Epoch 76/400\n",
            "45/45 [==============================] - 1s 27ms/step - loss: 45.5512 - mae: 27.7533 - val_loss: 50.7766 - val_mae: 31.2633\n",
            "Epoch 77/400\n",
            "45/45 [==============================] - 1s 30ms/step - loss: 44.1552 - mae: 26.9311 - val_loss: 50.3331 - val_mae: 31.0087\n",
            "Epoch 78/400\n",
            "45/45 [==============================] - 1s 27ms/step - loss: 43.6995 - mae: 26.6486 - val_loss: 49.8415 - val_mae: 30.7033\n",
            "Epoch 79/400\n",
            "45/45 [==============================] - 1s 30ms/step - loss: 44.0669 - mae: 26.9342 - val_loss: 49.4979 - val_mae: 30.5038\n",
            "Epoch 80/400\n",
            "45/45 [==============================] - 1s 29ms/step - loss: 43.1226 - mae: 26.3293 - val_loss: 49.0912 - val_mae: 30.2739\n",
            "Epoch 81/400\n",
            "45/45 [==============================] - 1s 33ms/step - loss: 43.0908 - mae: 26.3294 - val_loss: 48.6890 - val_mae: 30.0205\n",
            "Epoch 82/400\n",
            "45/45 [==============================] - 1s 32ms/step - loss: 42.8915 - mae: 26.2344 - val_loss: 48.3223 - val_mae: 29.8002\n",
            "Epoch 83/400\n",
            "45/45 [==============================] - 1s 32ms/step - loss: 42.8821 - mae: 26.2249 - val_loss: 48.0302 - val_mae: 29.6268\n",
            "Epoch 84/400\n",
            "45/45 [==============================] - 1s 31ms/step - loss: 41.9601 - mae: 25.6303 - val_loss: 47.7040 - val_mae: 29.4368\n",
            "Epoch 85/400\n",
            "45/45 [==============================] - 1s 30ms/step - loss: 41.0628 - mae: 25.0515 - val_loss: 47.4373 - val_mae: 29.2913\n",
            "Epoch 86/400\n",
            "45/45 [==============================] - 1s 29ms/step - loss: 40.7526 - mae: 24.8809 - val_loss: 47.1652 - val_mae: 29.1238\n",
            "Epoch 87/400\n",
            "45/45 [==============================] - 1s 27ms/step - loss: 40.9737 - mae: 25.0765 - val_loss: 46.8016 - val_mae: 28.8978\n",
            "Epoch 88/400\n",
            "45/45 [==============================] - 1s 30ms/step - loss: 40.2984 - mae: 24.6476 - val_loss: 46.4828 - val_mae: 28.6960\n",
            "Epoch 89/400\n",
            "45/45 [==============================] - 1s 27ms/step - loss: 39.7328 - mae: 24.3310 - val_loss: 46.2115 - val_mae: 28.5232\n",
            "Epoch 90/400\n",
            "45/45 [==============================] - 1s 27ms/step - loss: 40.1296 - mae: 24.5468 - val_loss: 45.9479 - val_mae: 28.3914\n",
            "Epoch 91/400\n",
            "45/45 [==============================] - 1s 27ms/step - loss: 39.1776 - mae: 23.9877 - val_loss: 45.6217 - val_mae: 28.1959\n",
            "Epoch 92/400\n",
            "45/45 [==============================] - 1s 30ms/step - loss: 39.2242 - mae: 24.0129 - val_loss: 45.3619 - val_mae: 28.0433\n",
            "Epoch 93/400\n",
            "45/45 [==============================] - 1s 32ms/step - loss: 38.8357 - mae: 23.7950 - val_loss: 45.1317 - val_mae: 27.9182\n",
            "Epoch 94/400\n",
            "45/45 [==============================] - 1s 33ms/step - loss: 38.6996 - mae: 23.7594 - val_loss: 44.8105 - val_mae: 27.7109\n",
            "Epoch 95/400\n",
            "45/45 [==============================] - 1s 31ms/step - loss: 37.5635 - mae: 23.0267 - val_loss: 44.5583 - val_mae: 27.5560\n",
            "Epoch 96/400\n",
            "45/45 [==============================] - 1s 33ms/step - loss: 37.9928 - mae: 23.2905 - val_loss: 44.2892 - val_mae: 27.4032\n",
            "Epoch 97/400\n",
            "45/45 [==============================] - 1s 30ms/step - loss: 37.7125 - mae: 23.1404 - val_loss: 44.0353 - val_mae: 27.2467\n",
            "Epoch 98/400\n",
            "45/45 [==============================] - 1s 27ms/step - loss: 37.7911 - mae: 23.1676 - val_loss: 43.8233 - val_mae: 27.1242\n",
            "Epoch 99/400\n",
            "45/45 [==============================] - 1s 30ms/step - loss: 37.0239 - mae: 22.7114 - val_loss: 43.5513 - val_mae: 26.9501\n",
            "Epoch 100/400\n",
            "45/45 [==============================] - 1s 30ms/step - loss: 37.4183 - mae: 22.9808 - val_loss: 43.3153 - val_mae: 26.8060\n",
            "Epoch 101/400\n",
            "45/45 [==============================] - 1s 27ms/step - loss: 36.6797 - mae: 22.5110 - val_loss: 43.0953 - val_mae: 26.6728\n",
            "Epoch 102/400\n",
            "45/45 [==============================] - 1s 27ms/step - loss: 36.8294 - mae: 22.6241 - val_loss: 42.9432 - val_mae: 26.5834\n",
            "Epoch 103/400\n",
            "45/45 [==============================] - 1s 27ms/step - loss: 36.1322 - mae: 22.1794 - val_loss: 42.7753 - val_mae: 26.4956\n",
            "Epoch 104/400\n",
            "45/45 [==============================] - 1s 30ms/step - loss: 36.3911 - mae: 22.4163 - val_loss: 42.5947 - val_mae: 26.3923\n",
            "Epoch 105/400\n",
            "45/45 [==============================] - 1s 33ms/step - loss: 35.5914 - mae: 21.7944 - val_loss: 42.3660 - val_mae: 26.2498\n",
            "Epoch 106/400\n",
            "45/45 [==============================] - 1s 32ms/step - loss: 35.7931 - mae: 22.0593 - val_loss: 42.2152 - val_mae: 26.1727\n",
            "Epoch 107/400\n",
            "45/45 [==============================] - 1s 31ms/step - loss: 35.8391 - mae: 22.0481 - val_loss: 42.0066 - val_mae: 26.0359\n",
            "Epoch 108/400\n",
            "45/45 [==============================] - 1s 32ms/step - loss: 35.2485 - mae: 21.7323 - val_loss: 41.8586 - val_mae: 25.9629\n",
            "Epoch 109/400\n",
            "45/45 [==============================] - 1s 29ms/step - loss: 34.6181 - mae: 21.2801 - val_loss: 41.6346 - val_mae: 25.8196\n",
            "Epoch 110/400\n",
            "45/45 [==============================] - 1s 28ms/step - loss: 35.0618 - mae: 21.5816 - val_loss: 41.4779 - val_mae: 25.7433\n",
            "Epoch 111/400\n",
            "45/45 [==============================] - 1s 27ms/step - loss: 34.2037 - mae: 21.0561 - val_loss: 41.3322 - val_mae: 25.6485\n",
            "Epoch 112/400\n",
            "45/45 [==============================] - 1s 27ms/step - loss: 34.1253 - mae: 20.9813 - val_loss: 41.0857 - val_mae: 25.4989\n",
            "Epoch 113/400\n",
            "45/45 [==============================] - 1s 27ms/step - loss: 34.4022 - mae: 21.1633 - val_loss: 40.9125 - val_mae: 25.3888\n",
            "Epoch 114/400\n",
            "45/45 [==============================] - 1s 30ms/step - loss: 34.2517 - mae: 21.1114 - val_loss: 40.8359 - val_mae: 25.3551\n",
            "Epoch 115/400\n",
            "45/45 [==============================] - 1s 28ms/step - loss: 34.5846 - mae: 21.3352 - val_loss: 40.6324 - val_mae: 25.2329\n",
            "Epoch 116/400\n",
            "45/45 [==============================] - 1s 27ms/step - loss: 34.1518 - mae: 21.0915 - val_loss: 40.4984 - val_mae: 25.1570\n",
            "Epoch 117/400\n",
            "45/45 [==============================] - 1s 33ms/step - loss: 33.6811 - mae: 20.7434 - val_loss: 40.4014 - val_mae: 25.0962\n",
            "Epoch 118/400\n",
            "45/45 [==============================] - 1s 32ms/step - loss: 33.4323 - mae: 20.5240 - val_loss: 40.2109 - val_mae: 24.9862\n",
            "Epoch 119/400\n",
            "45/45 [==============================] - 1s 33ms/step - loss: 33.3430 - mae: 20.5571 - val_loss: 40.0310 - val_mae: 24.8687\n",
            "Epoch 120/400\n",
            "45/45 [==============================] - 1s 33ms/step - loss: 33.0825 - mae: 20.3878 - val_loss: 39.8763 - val_mae: 24.7725\n",
            "Epoch 121/400\n",
            "45/45 [==============================] - 1s 31ms/step - loss: 33.1155 - mae: 20.4342 - val_loss: 39.7732 - val_mae: 24.7204\n",
            "Epoch 122/400\n",
            "45/45 [==============================] - 1s 28ms/step - loss: 32.0433 - mae: 19.7235 - val_loss: 39.6363 - val_mae: 24.6463\n",
            "Epoch 123/400\n",
            "45/45 [==============================] - 1s 30ms/step - loss: 32.6563 - mae: 20.1578 - val_loss: 39.5134 - val_mae: 24.5612\n",
            "Epoch 124/400\n",
            "45/45 [==============================] - 1s 27ms/step - loss: 32.6077 - mae: 20.1053 - val_loss: 39.4440 - val_mae: 24.5372\n",
            "Epoch 125/400\n",
            "45/45 [==============================] - 1s 27ms/step - loss: 31.9990 - mae: 19.7260 - val_loss: 39.3974 - val_mae: 24.5064\n",
            "Epoch 126/400\n",
            "45/45 [==============================] - 1s 28ms/step - loss: 31.9978 - mae: 19.7513 - val_loss: 39.2467 - val_mae: 24.4155\n",
            "Epoch 127/400\n",
            "45/45 [==============================] - 1s 27ms/step - loss: 31.6056 - mae: 19.4755 - val_loss: 38.9734 - val_mae: 24.2465\n",
            "Epoch 128/400\n",
            "45/45 [==============================] - 1s 27ms/step - loss: 31.6001 - mae: 19.4974 - val_loss: 38.8928 - val_mae: 24.2100\n",
            "Epoch 129/400\n",
            "45/45 [==============================] - 1s 28ms/step - loss: 31.7265 - mae: 19.6075 - val_loss: 38.6817 - val_mae: 24.0682\n",
            "Epoch 130/400\n",
            "45/45 [==============================] - 1s 31ms/step - loss: 31.9069 - mae: 19.7413 - val_loss: 38.6093 - val_mae: 24.0457\n",
            "Epoch 131/400\n",
            "45/45 [==============================] - 1s 32ms/step - loss: 31.0077 - mae: 19.0938 - val_loss: 38.5653 - val_mae: 24.0214\n",
            "Epoch 132/400\n",
            "45/45 [==============================] - 1s 32ms/step - loss: 32.0263 - mae: 19.7892 - val_loss: 38.4003 - val_mae: 23.9156\n",
            "Epoch 133/400\n",
            "45/45 [==============================] - 1s 33ms/step - loss: 30.8112 - mae: 18.9953 - val_loss: 38.2866 - val_mae: 23.8516\n",
            "Epoch 134/400\n",
            "45/45 [==============================] - 1s 28ms/step - loss: 30.6725 - mae: 18.9178 - val_loss: 38.1568 - val_mae: 23.7545\n",
            "Epoch 135/400\n",
            "45/45 [==============================] - 1s 28ms/step - loss: 30.5789 - mae: 18.9005 - val_loss: 37.9972 - val_mae: 23.6636\n",
            "Epoch 136/400\n",
            "45/45 [==============================] - 1s 27ms/step - loss: 30.7144 - mae: 18.9767 - val_loss: 37.9442 - val_mae: 23.6349\n",
            "Epoch 137/400\n",
            "45/45 [==============================] - 1s 30ms/step - loss: 30.4724 - mae: 18.8379 - val_loss: 37.8626 - val_mae: 23.5943\n",
            "Epoch 138/400\n",
            "45/45 [==============================] - 1s 27ms/step - loss: 30.1521 - mae: 18.6052 - val_loss: 37.7514 - val_mae: 23.5111\n",
            "Epoch 139/400\n",
            "45/45 [==============================] - 1s 27ms/step - loss: 30.0491 - mae: 18.6285 - val_loss: 37.6986 - val_mae: 23.5155\n",
            "Epoch 140/400\n",
            "45/45 [==============================] - 1s 30ms/step - loss: 29.7338 - mae: 18.3695 - val_loss: 37.6171 - val_mae: 23.4527\n",
            "Epoch 141/400\n",
            "45/45 [==============================] - 1s 28ms/step - loss: 30.2116 - mae: 18.6802 - val_loss: 37.5346 - val_mae: 23.4045\n",
            "Epoch 142/400\n",
            "45/45 [==============================] - 1s 33ms/step - loss: 30.4451 - mae: 18.8606 - val_loss: 37.3779 - val_mae: 23.3179\n",
            "Epoch 143/400\n",
            "45/45 [==============================] - 1s 33ms/step - loss: 30.7832 - mae: 19.0703 - val_loss: 37.3645 - val_mae: 23.2999\n",
            "Epoch 144/400\n",
            "45/45 [==============================] - 1s 33ms/step - loss: 29.5590 - mae: 18.2730 - val_loss: 37.2629 - val_mae: 23.2440\n",
            "Epoch 145/400\n",
            "45/45 [==============================] - 1s 33ms/step - loss: 29.2464 - mae: 18.0830 - val_loss: 37.1718 - val_mae: 23.1855\n",
            "Epoch 146/400\n",
            "45/45 [==============================] - 1s 31ms/step - loss: 29.4592 - mae: 18.2290 - val_loss: 37.0766 - val_mae: 23.1223\n",
            "Epoch 147/400\n",
            "45/45 [==============================] - 1s 30ms/step - loss: 29.3604 - mae: 18.1593 - val_loss: 37.0417 - val_mae: 23.1219\n",
            "Epoch 148/400\n",
            "45/45 [==============================] - 1s 28ms/step - loss: 29.3412 - mae: 18.1419 - val_loss: 36.9613 - val_mae: 23.0642\n",
            "Epoch 149/400\n",
            "45/45 [==============================] - 1s 28ms/step - loss: 28.9953 - mae: 17.9448 - val_loss: 36.8438 - val_mae: 23.0190\n",
            "Epoch 150/400\n",
            "45/45 [==============================] - 1s 27ms/step - loss: 29.0539 - mae: 18.0007 - val_loss: 36.7328 - val_mae: 22.9423\n",
            "Epoch 151/400\n",
            "45/45 [==============================] - 1s 27ms/step - loss: 29.2700 - mae: 18.1420 - val_loss: 36.6507 - val_mae: 22.8997\n",
            "Epoch 152/400\n",
            "45/45 [==============================] - 1s 30ms/step - loss: 28.8643 - mae: 17.8854 - val_loss: 36.5316 - val_mae: 22.8151\n",
            "Epoch 153/400\n",
            "45/45 [==============================] - 1s 28ms/step - loss: 28.6076 - mae: 17.7096 - val_loss: 36.4448 - val_mae: 22.7591\n",
            "Epoch 154/400\n",
            "45/45 [==============================] - 1s 30ms/step - loss: 28.5624 - mae: 17.6892 - val_loss: 36.3517 - val_mae: 22.7072\n",
            "Epoch 155/400\n",
            "45/45 [==============================] - 1s 33ms/step - loss: 28.1871 - mae: 17.4823 - val_loss: 36.2550 - val_mae: 22.6427\n",
            "Epoch 156/400\n",
            "45/45 [==============================] - 1s 33ms/step - loss: 28.6789 - mae: 17.7534 - val_loss: 36.2293 - val_mae: 22.6385\n",
            "Epoch 157/400\n",
            "45/45 [==============================] - 1s 33ms/step - loss: 28.1784 - mae: 17.4421 - val_loss: 36.1958 - val_mae: 22.6075\n",
            "Epoch 158/400\n",
            "45/45 [==============================] - 1s 31ms/step - loss: 27.9627 - mae: 17.3269 - val_loss: 36.0920 - val_mae: 22.5395\n",
            "Epoch 159/400\n",
            "45/45 [==============================] - 1s 28ms/step - loss: 28.1971 - mae: 17.4684 - val_loss: 36.0447 - val_mae: 22.5148\n",
            "Epoch 160/400\n",
            "45/45 [==============================] - 1s 27ms/step - loss: 27.8765 - mae: 17.2821 - val_loss: 36.0336 - val_mae: 22.5335\n",
            "Epoch 161/400\n",
            "45/45 [==============================] - 1s 29ms/step - loss: 27.7193 - mae: 17.1756 - val_loss: 35.8681 - val_mae: 22.4104\n",
            "Epoch 162/400\n",
            "45/45 [==============================] - 1s 30ms/step - loss: 27.9805 - mae: 17.3507 - val_loss: 35.8298 - val_mae: 22.3939\n",
            "Epoch 163/400\n",
            "45/45 [==============================] - 1s 30ms/step - loss: 27.8629 - mae: 17.2876 - val_loss: 35.7799 - val_mae: 22.3704\n",
            "Epoch 164/400\n",
            "45/45 [==============================] - 1s 28ms/step - loss: 27.5817 - mae: 17.0810 - val_loss: 35.7239 - val_mae: 22.3329\n",
            "Epoch 165/400\n",
            "45/45 [==============================] - 1s 30ms/step - loss: 28.0634 - mae: 17.4070 - val_loss: 35.6361 - val_mae: 22.2731\n",
            "Epoch 166/400\n",
            "45/45 [==============================] - 1s 31ms/step - loss: 27.6399 - mae: 17.1781 - val_loss: 35.5890 - val_mae: 22.2482\n",
            "Epoch 167/400\n",
            "45/45 [==============================] - 1s 31ms/step - loss: 27.7505 - mae: 17.1765 - val_loss: 35.5980 - val_mae: 22.2497\n",
            "Epoch 168/400\n",
            "45/45 [==============================] - 1s 33ms/step - loss: 27.9656 - mae: 17.3715 - val_loss: 35.5372 - val_mae: 22.2105\n",
            "Epoch 169/400\n",
            "45/45 [==============================] - 1s 31ms/step - loss: 27.2819 - mae: 16.9352 - val_loss: 35.4188 - val_mae: 22.1518\n",
            "Epoch 170/400\n",
            "45/45 [==============================] - 1s 33ms/step - loss: 26.7505 - mae: 16.5995 - val_loss: 35.3881 - val_mae: 22.1429\n",
            "Epoch 171/400\n",
            "45/45 [==============================] - 1s 29ms/step - loss: 27.1856 - mae: 16.8805 - val_loss: 35.4840 - val_mae: 22.1964\n",
            "Epoch 172/400\n",
            "45/45 [==============================] - 1s 28ms/step - loss: 27.2916 - mae: 16.9735 - val_loss: 35.3825 - val_mae: 22.1385\n",
            "Epoch 173/400\n",
            "45/45 [==============================] - 1s 28ms/step - loss: 26.9811 - mae: 16.7582 - val_loss: 35.2485 - val_mae: 22.0485\n",
            "Epoch 174/400\n",
            "45/45 [==============================] - 1s 27ms/step - loss: 27.1264 - mae: 16.8524 - val_loss: 35.2134 - val_mae: 22.0312\n",
            "Epoch 175/400\n",
            "45/45 [==============================] - 1s 30ms/step - loss: 26.9010 - mae: 16.7042 - val_loss: 35.1638 - val_mae: 22.0047\n",
            "Epoch 176/400\n",
            "45/45 [==============================] - 1s 28ms/step - loss: 26.7303 - mae: 16.6252 - val_loss: 35.0803 - val_mae: 21.9463\n",
            "Epoch 177/400\n",
            "45/45 [==============================] - 1s 31ms/step - loss: 26.5955 - mae: 16.5193 - val_loss: 35.0669 - val_mae: 21.9347\n",
            "Epoch 178/400\n",
            "45/45 [==============================] - 1s 31ms/step - loss: 26.3624 - mae: 16.4022 - val_loss: 35.0272 - val_mae: 21.9282\n",
            "Epoch 179/400\n",
            "45/45 [==============================] - 1s 33ms/step - loss: 26.6203 - mae: 16.4983 - val_loss: 34.9948 - val_mae: 21.8957\n",
            "Epoch 180/400\n",
            "45/45 [==============================] - 1s 30ms/step - loss: 26.5852 - mae: 16.5108 - val_loss: 34.9658 - val_mae: 21.8845\n",
            "Epoch 181/400\n",
            "45/45 [==============================] - 2s 34ms/step - loss: 26.0067 - mae: 16.1336 - val_loss: 34.9480 - val_mae: 21.8781\n",
            "Epoch 182/400\n",
            "45/45 [==============================] - 1s 33ms/step - loss: 26.6092 - mae: 16.5473 - val_loss: 34.8326 - val_mae: 21.7968\n",
            "Epoch 183/400\n",
            "45/45 [==============================] - 1s 31ms/step - loss: 26.0518 - mae: 16.2127 - val_loss: 34.7432 - val_mae: 21.7461\n",
            "Epoch 184/400\n",
            "45/45 [==============================] - 1s 28ms/step - loss: 26.2881 - mae: 16.3761 - val_loss: 34.7223 - val_mae: 21.7529\n",
            "Epoch 185/400\n",
            "45/45 [==============================] - 1s 28ms/step - loss: 25.7447 - mae: 15.9714 - val_loss: 34.7111 - val_mae: 21.7345\n",
            "Epoch 186/400\n",
            "45/45 [==============================] - 1s 30ms/step - loss: 26.1222 - mae: 16.2756 - val_loss: 34.6194 - val_mae: 21.6807\n",
            "Epoch 187/400\n",
            "45/45 [==============================] - 1s 26ms/step - loss: 26.2003 - mae: 16.3148 - val_loss: 34.6343 - val_mae: 21.7010\n",
            "Epoch 188/400\n",
            "45/45 [==============================] - 1s 31ms/step - loss: 26.0545 - mae: 16.1959 - val_loss: 34.5979 - val_mae: 21.6761\n",
            "Epoch 189/400\n",
            "45/45 [==============================] - 1s 28ms/step - loss: 25.8845 - mae: 16.0845 - val_loss: 34.5372 - val_mae: 21.6465\n",
            "Epoch 190/400\n",
            "45/45 [==============================] - 1s 31ms/step - loss: 25.9552 - mae: 16.1540 - val_loss: 34.4795 - val_mae: 21.5917\n",
            "Epoch 191/400\n",
            "45/45 [==============================] - 1s 32ms/step - loss: 25.5388 - mae: 15.8720 - val_loss: 34.4784 - val_mae: 21.6076\n",
            "Epoch 192/400\n",
            "45/45 [==============================] - 1s 32ms/step - loss: 25.8478 - mae: 16.0906 - val_loss: 34.3951 - val_mae: 21.5585\n",
            "Epoch 193/400\n",
            "45/45 [==============================] - 1s 32ms/step - loss: 26.2178 - mae: 16.3331 - val_loss: 34.4215 - val_mae: 21.5902\n",
            "Epoch 194/400\n",
            "45/45 [==============================] - 1s 31ms/step - loss: 25.6054 - mae: 15.9323 - val_loss: 34.3895 - val_mae: 21.5775\n",
            "Epoch 195/400\n",
            "45/45 [==============================] - 1s 31ms/step - loss: 25.2867 - mae: 15.7608 - val_loss: 34.3771 - val_mae: 21.5461\n",
            "Epoch 196/400\n",
            "45/45 [==============================] - 1s 30ms/step - loss: 25.6609 - mae: 15.9617 - val_loss: 34.2846 - val_mae: 21.4921\n",
            "Epoch 197/400\n",
            "45/45 [==============================] - 1s 28ms/step - loss: 25.4297 - mae: 15.8160 - val_loss: 34.2943 - val_mae: 21.5043\n",
            "Epoch 198/400\n",
            "45/45 [==============================] - 1s 28ms/step - loss: 25.0794 - mae: 15.6143 - val_loss: 34.1877 - val_mae: 21.4221\n",
            "Epoch 199/400\n",
            "45/45 [==============================] - 1s 29ms/step - loss: 25.5114 - mae: 15.8961 - val_loss: 34.2008 - val_mae: 21.4384\n",
            "Epoch 200/400\n",
            "45/45 [==============================] - 1s 26ms/step - loss: 24.9409 - mae: 15.5172 - val_loss: 34.2030 - val_mae: 21.4604\n",
            "Epoch 201/400\n",
            "45/45 [==============================] - 1s 30ms/step - loss: 25.2870 - mae: 15.7711 - val_loss: 34.1425 - val_mae: 21.4190\n",
            "Epoch 202/400\n",
            "45/45 [==============================] - 1s 30ms/step - loss: 25.1968 - mae: 15.6908 - val_loss: 34.0700 - val_mae: 21.3724\n",
            "Epoch 203/400\n",
            "45/45 [==============================] - 1s 32ms/step - loss: 25.3863 - mae: 15.8013 - val_loss: 34.0075 - val_mae: 21.3250\n",
            "Epoch 204/400\n",
            "45/45 [==============================] - 1s 31ms/step - loss: 24.7021 - mae: 15.4098 - val_loss: 33.9235 - val_mae: 21.2621\n",
            "Epoch 205/400\n",
            "45/45 [==============================] - 1s 31ms/step - loss: 24.3369 - mae: 15.1292 - val_loss: 33.9243 - val_mae: 21.2748\n",
            "Epoch 206/400\n",
            "45/45 [==============================] - 1s 32ms/step - loss: 24.5629 - mae: 15.2681 - val_loss: 33.9370 - val_mae: 21.2959\n",
            "Epoch 207/400\n",
            "45/45 [==============================] - 1s 33ms/step - loss: 24.4442 - mae: 15.2086 - val_loss: 33.8854 - val_mae: 21.2613\n",
            "Epoch 208/400\n",
            "45/45 [==============================] - 1s 30ms/step - loss: 24.4811 - mae: 15.2522 - val_loss: 33.8661 - val_mae: 21.2516\n",
            "Epoch 209/400\n",
            "45/45 [==============================] - 1s 28ms/step - loss: 24.4066 - mae: 15.1805 - val_loss: 33.7700 - val_mae: 21.1830\n",
            "Epoch 210/400\n",
            "45/45 [==============================] - 1s 29ms/step - loss: 24.2589 - mae: 15.0813 - val_loss: 33.8143 - val_mae: 21.2183\n",
            "Epoch 211/400\n",
            "45/45 [==============================] - 1s 28ms/step - loss: 24.8476 - mae: 15.4250 - val_loss: 33.7600 - val_mae: 21.1881\n",
            "Epoch 212/400\n",
            "45/45 [==============================] - 1s 31ms/step - loss: 24.7155 - mae: 15.4703 - val_loss: 33.7336 - val_mae: 21.1758\n",
            "Epoch 213/400\n",
            "45/45 [==============================] - 1s 27ms/step - loss: 23.9913 - mae: 14.9149 - val_loss: 33.7046 - val_mae: 21.1512\n",
            "Epoch 214/400\n",
            "45/45 [==============================] - 1s 30ms/step - loss: 24.6464 - mae: 15.4097 - val_loss: 33.6636 - val_mae: 21.1283\n",
            "Epoch 215/400\n",
            "45/45 [==============================] - 1s 31ms/step - loss: 24.3817 - mae: 15.1830 - val_loss: 33.5682 - val_mae: 21.0695\n",
            "Epoch 216/400\n",
            "45/45 [==============================] - 1s 33ms/step - loss: 24.1912 - mae: 15.0798 - val_loss: 33.4896 - val_mae: 21.0051\n",
            "Epoch 217/400\n",
            "45/45 [==============================] - 1s 33ms/step - loss: 24.4674 - mae: 15.2879 - val_loss: 33.3615 - val_mae: 20.9300\n",
            "Epoch 218/400\n",
            "45/45 [==============================] - 1s 33ms/step - loss: 24.1870 - mae: 15.0645 - val_loss: 33.3319 - val_mae: 20.9144\n",
            "Epoch 219/400\n",
            "45/45 [==============================] - 1s 32ms/step - loss: 24.1951 - mae: 15.1310 - val_loss: 33.3522 - val_mae: 20.9296\n",
            "Epoch 220/400\n",
            "45/45 [==============================] - 1s 26ms/step - loss: 24.8908 - mae: 15.5442 - val_loss: 33.4038 - val_mae: 20.9819\n",
            "Epoch 221/400\n",
            "45/45 [==============================] - 1s 26ms/step - loss: 23.7640 - mae: 14.8342 - val_loss: 33.4287 - val_mae: 21.0039\n",
            "Epoch 222/400\n",
            "45/45 [==============================] - 1s 26ms/step - loss: 24.0338 - mae: 14.9836 - val_loss: 33.3602 - val_mae: 20.9665\n",
            "Epoch 223/400\n",
            "45/45 [==============================] - 1s 26ms/step - loss: 24.0915 - mae: 15.0227 - val_loss: 33.3710 - val_mae: 20.9587\n",
            "Epoch 224/400\n",
            "45/45 [==============================] - 1s 28ms/step - loss: 24.4444 - mae: 15.2634 - val_loss: 33.3503 - val_mae: 20.9499\n",
            "Epoch 225/400\n",
            "45/45 [==============================] - 1s 30ms/step - loss: 24.4904 - mae: 15.2806 - val_loss: 33.2640 - val_mae: 20.8900\n",
            "Epoch 226/400\n",
            "45/45 [==============================] - 1s 30ms/step - loss: 24.2384 - mae: 15.1128 - val_loss: 33.1984 - val_mae: 20.8525\n",
            "Epoch 227/400\n",
            "45/45 [==============================] - 1s 28ms/step - loss: 23.8478 - mae: 14.8728 - val_loss: 33.2066 - val_mae: 20.8535\n",
            "Epoch 228/400\n",
            "45/45 [==============================] - 1s 32ms/step - loss: 23.2843 - mae: 14.5292 - val_loss: 33.0813 - val_mae: 20.7648\n",
            "Epoch 229/400\n",
            "45/45 [==============================] - 1s 33ms/step - loss: 23.7829 - mae: 14.8319 - val_loss: 33.0338 - val_mae: 20.7476\n",
            "Epoch 230/400\n",
            "45/45 [==============================] - 1s 30ms/step - loss: 23.8079 - mae: 14.8597 - val_loss: 33.0808 - val_mae: 20.7778\n",
            "Epoch 231/400\n",
            "45/45 [==============================] - 1s 30ms/step - loss: 23.7480 - mae: 14.8052 - val_loss: 33.0667 - val_mae: 20.7905\n",
            "Epoch 232/400\n",
            "45/45 [==============================] - 1s 28ms/step - loss: 23.8223 - mae: 14.8232 - val_loss: 33.0531 - val_mae: 20.7838\n",
            "Epoch 233/400\n",
            "45/45 [==============================] - 1s 30ms/step - loss: 23.7873 - mae: 14.8489 - val_loss: 32.9534 - val_mae: 20.7134\n",
            "Epoch 234/400\n",
            "45/45 [==============================] - 1s 28ms/step - loss: 23.5643 - mae: 14.6860 - val_loss: 32.8446 - val_mae: 20.6407\n",
            "Epoch 235/400\n",
            "45/45 [==============================] - 1s 26ms/step - loss: 22.9807 - mae: 14.3143 - val_loss: 32.9221 - val_mae: 20.6977\n",
            "Epoch 236/400\n",
            "45/45 [==============================] - 1s 28ms/step - loss: 24.1420 - mae: 15.0873 - val_loss: 32.9350 - val_mae: 20.7006\n",
            "Epoch 237/400\n",
            "45/45 [==============================] - 1s 27ms/step - loss: 23.2311 - mae: 14.4785 - val_loss: 32.9347 - val_mae: 20.6878\n",
            "Epoch 238/400\n",
            "45/45 [==============================] - 1s 27ms/step - loss: 23.4539 - mae: 14.6306 - val_loss: 32.9792 - val_mae: 20.7135\n",
            "Epoch 239/400\n",
            "45/45 [==============================] - 1s 26ms/step - loss: 23.1224 - mae: 14.4605 - val_loss: 32.9311 - val_mae: 20.7074\n",
            "Epoch 240/400\n",
            "45/45 [==============================] - 1s 30ms/step - loss: 23.3086 - mae: 14.5520 - val_loss: 32.9982 - val_mae: 20.7507\n",
            "Epoch 241/400\n",
            "45/45 [==============================] - 1s 31ms/step - loss: 23.1408 - mae: 14.4485 - val_loss: 32.8879 - val_mae: 20.6680\n",
            "Epoch 242/400\n",
            "45/45 [==============================] - 1s 32ms/step - loss: 23.2265 - mae: 14.4796 - val_loss: 32.8693 - val_mae: 20.6545\n",
            "Epoch 243/400\n",
            "45/45 [==============================] - 1s 31ms/step - loss: 22.8358 - mae: 14.2499 - val_loss: 32.8777 - val_mae: 20.6611\n",
            "Epoch 244/400\n",
            "45/45 [==============================] - 1s 33ms/step - loss: 23.1159 - mae: 14.4367 - val_loss: 32.8819 - val_mae: 20.6705\n"
          ]
        },
        {
          "output_type": "execute_result",
          "data": {
            "text/plain": [
              "<keras.src.callbacks.History at 0x7cc56ba523e0>"
            ]
          },
          "metadata": {},
          "execution_count": 77
        }
      ]
    },
    {
      "cell_type": "code",
      "source": [
        "# plot the history of the loss\n",
        "start = 1\n",
        "loss = model.history.history['loss']\n",
        "val_loss = model.history.history['val_loss']\n",
        "plt.plot(loss[start:], label=\"loss\")\n",
        "plt.plot(val_loss[start:], label='val loss')\n",
        "plt.title('Model Loss')\n",
        "plt.xlabel('Epoch')\n",
        "plt.legend()\n"
      ],
      "metadata": {
        "colab": {
          "base_uri": "https://localhost:8080/",
          "height": 490
        },
        "id": "mLW8jhv27FVm",
        "outputId": "30647a4a-d904-4f44-aade-2eabc6861a2d"
      },
      "execution_count": null,
      "outputs": [
        {
          "output_type": "execute_result",
          "data": {
            "text/plain": [
              "<matplotlib.legend.Legend at 0x7cc5689af010>"
            ]
          },
          "metadata": {},
          "execution_count": 78
        },
        {
          "output_type": "display_data",
          "data": {
            "text/plain": [
              "<Figure size 640x480 with 1 Axes>"
            ],
            "image/png": "[encoded data removed]"
          },
          "metadata": {}
        }
      ]
    },
    {
      "cell_type": "code",
      "source": [
        "# test data\n",
        "predictions = model.predict(X_test)\n",
        "mse = np.mean((predictions - y_test)**2)\n",
        "mae = np.mean(np.abs(predictions - y_test))\n",
        "print(\"mse:\", mse, \"mae:\", mae)"
      ],
      "metadata": {
        "colab": {
          "base_uri": "https://localhost:8080/"
        },
        "id": "YDRr4dGYAro3",
        "outputId": "34cff638-2254-42cc-ec2b-c8a79dbfeda4"
      },
      "execution_count": null,
      "outputs": [
        {
          "output_type": "stream",
          "name": "stdout",
          "text": [
            "12/12 [==============================] - 2s 24ms/step\n",
            "mse: 991.0075 mae: 20.640663\n"
          ]
        }
      ]
    },
    {
      "cell_type": "code",
      "source": [
        "# unaugmented test data\n",
        "predictions = model.predict(X_test_noaug)\n",
        "mse = np.mean((predictions - y_test_noaug)**2)\n",
        "mae = np.mean(np.abs(predictions - y_test_noaug))\n",
        "print(\"mse:\", mse, \"mae:\", mae)\n"
      ],
      "metadata": {
        "colab": {
          "base_uri": "https://localhost:8080/"
        },
        "id": "i9DXbPvgBkRR",
        "outputId": "4f1359cb-ad54-4025-f289-db911adb2bd2"
      },
      "execution_count": null,
      "outputs": [
        {
          "output_type": "stream",
          "name": "stdout",
          "text": [
            "4/4 [==============================] - 0s 143ms/step\n",
            "mse: 452.68396 mae: 15.145374\n"
          ]
        }
      ]
    },
    {
      "cell_type": "code",
      "source": [
        "# training\n",
        "X = X_train\n",
        "y = y_train\n",
        "predictions = model.predict(X)\n",
        "mse = np.mean((predictions - y)**2)\n",
        "mae = np.mean(np.abs(predictions - y))\n",
        "print(\"mse:\", mse, \"mae:\", mae)"
      ],
      "metadata": {
        "colab": {
          "base_uri": "https://localhost:8080/"
        },
        "id": "4IcIYlR3DJdz",
        "outputId": "91c29ecf-2deb-47ff-effd-7305296320a6"
      },
      "execution_count": null,
      "outputs": [
        {
          "output_type": "stream",
          "name": "stdout",
          "text": [
            "45/45 [==============================] - 1s 19ms/step\n",
            "mse: 336.9126 mae: 10.133996\n"
          ]
        }
      ]
    },
    {
      "cell_type": "code",
      "source": [
        "bm.trainable = True\n",
        "model.summary()"
      ],
      "metadata": {
        "colab": {
          "base_uri": "https://localhost:8080/"
        },
        "id": "hY7aODK7TkVD",
        "outputId": "610163e1-2291-4069-a009-384ec44d24a5"
      },
      "execution_count": null,
      "outputs": [
        {
          "output_type": "stream",
          "name": "stdout",
          "text": [
            "Model: \"model_4\"\n",
            "_________________________________________________________________\n",
            " Layer (type)                Output Shape              Param #   \n",
            "=================================================================\n",
            " input_12 (InputLayer)       [(None, 224, 224, 3)]     0         \n",
            "                                                                 \n",
            " MobilenetV3small (Function  (None, 7, 7, 576)         939120    \n",
            " al)                                                             \n",
            "                                                                 \n",
            " flatten_4 (Flatten)         (None, 28224)             0         \n",
            "                                                                 \n",
            " dropout_4 (Dropout)         (None, 28224)             0         \n",
            "                                                                 \n",
            " dense_4 (Dense)             (None, 12)                338700    \n",
            "                                                                 \n",
            "=================================================================\n",
            "Total params: 1277820 (4.87 MB)\n",
            "Trainable params: 1265708 (4.83 MB)\n",
            "Non-trainable params: 12112 (47.31 KB)\n",
            "_________________________________________________________________\n"
          ]
        }
      ]
    },
    {
      "cell_type": "code",
      "source": [
        "# save weights\n",
        "from google.colab import files\n",
        "filename = 'MobileNetV3Small_all.h5'\n",
        "model.save_weights(filename)\n",
        "files.download(filename)"
      ],
      "metadata": {
        "id": "Os9x2aeuA1Xq",
        "colab": {
          "base_uri": "https://localhost:8080/",
          "height": 17
        },
        "outputId": "82f7cd67-a4ef-4b8f-fb3c-604eec60d5e1"
      },
      "execution_count": null,
      "outputs": [
        {
          "output_type": "display_data",
          "data": {
            "text/plain": [
              "<IPython.core.display.Javascript object>"
            ],
            "application/javascript": [
              "\n",
              "    async function download(id, filename, size) {\n",
              "      if (!google.colab.kernel.accessAllowed) {\n",
              "        return;\n",
              "      }\n",
              "      const div = document.createElement('div');\n",
              "      const label = document.createElement('label');\n",
              "      label.textContent = `Downloading \"${filename}\": `;\n",
              "      div.appendChild(label);\n",
              "      const progress = document.createElement('progress');\n",
              "      progress.max = size;\n",
              "      div.appendChild(progress);\n",
              "      document.body.appendChild(div);\n",
              "\n",
              "      const buffers = [];\n",
              "      let downloaded = 0;\n",
              "\n",
              "      const channel = await google.colab.kernel.comms.open(id);\n",
              "      // Send a message to notify the kernel that we're ready.\n",
              "      channel.send({})\n",
              "\n",
              "      for await (const message of channel.messages) {\n",
              "        // Send a message to notify the kernel that we're ready.\n",
              "        channel.send({})\n",
              "        if (message.buffers) {\n",
              "          for (const buffer of message.buffers) {\n",
              "            buffers.push(buffer);\n",
              "            downloaded += buffer.byteLength;\n",
              "            progress.value = downloaded;\n",
              "          }\n",
              "        }\n",
              "      }\n",
              "      const blob = new Blob(buffers, {type: 'application/binary'});\n",
              "      const a = document.createElement('a');\n",
              "      a.href = window.URL.createObjectURL(blob);\n",
              "      a.download = filename;\n",
              "      div.appendChild(a);\n",
              "      a.click();\n",
              "      div.remove();\n",
              "    }\n",
              "  "
            ]
          },
          "metadata": {}
        },
        {
          "output_type": "display_data",
          "data": {
            "text/plain": [
              "<IPython.core.display.Javascript object>"
            ],
            "application/javascript": [
              "download(\"download_08a088f0-1fe6-40a8-902f-7d925177fc96\", \"MobileNetV3Small_all.h5\", 5311232)"
            ]
          },
          "metadata": {}
        }
      ]
    }
  ]
}