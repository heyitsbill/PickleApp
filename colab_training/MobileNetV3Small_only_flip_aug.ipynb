{
  "nbformat": 4,
  "nbformat_minor": 0,
  "metadata": {
    "colab": {
      "provenance": [],
      "gpuType": "T4"
    },
    "kernelspec": {
      "name": "python3",
      "display_name": "Python 3"
    },
    "language_info": {
      "name": "python"
    },
    "accelerator": "GPU"
  },
  "cells": [
    {
      "cell_type": "code",
      "execution_count": null,
      "metadata": {
        "id": "mVFNuFFT5GEE"
      },
      "outputs": [],
      "source": [
        "import numpy as np\n",
        "import tensorflow as tf\n",
        "import matplotlib.pyplot as plt\n",
        "import os\n",
        "import pandas as pd"
      ]
    },
    {
      "cell_type": "code",
      "source": [
        "os.chdir('/content/drive/MyDrive/Pickleapp/20231129')"
      ],
      "metadata": {
        "id": "q-kcIur71z3R"
      },
      "execution_count": null,
      "outputs": []
    },
    {
      "cell_type": "code",
      "source": [
        "X_train = np.load(\"train_X.npy\")\n",
        "y_train = np.load(\"train_y.npy\")\n",
        "X_test = np.load(\"test_X.npy\")\n",
        "y_test = np.load(\"test_y.npy\")\n",
        "X_train_noaug = np.load(\"noaug_train_X.npy\")\n",
        "y_train_noaug = np.load(\"noaug_train_y.npy\")\n",
        "X_test_noaug = np.load(\"noaug_test_X.npy\")\n",
        "y_test_noaug = np.load(\"noaug_test_y.npy\")\n",
        "right_X_train = np.load(\"right_orient_train_X.npy\")\n",
        "right_y_train = np.load(\"right_orient_train_y.npy\")\n",
        "right_X_test = np.load(\"right_orient_test_X.npy\")\n",
        "right_y_test = np.load(\"right_orient_test_y.npy\")\n"
      ],
      "metadata": {
        "id": "RvOUeJsv51OR"
      },
      "execution_count": null,
      "outputs": []
    },
    {
      "cell_type": "code",
      "source": [
        "shape = (270, 480, 3)\n",
        "points = [1,2,3,4,5,6]\n",
        "point_cols = [(2 * (p-1), 2 * (p-1) + 1) for p in points]\n",
        "point_cols = np.array(point_cols).flatten()\n",
        "num_points = len(points) * 2\n",
        "\n",
        "y_train = y_train[:, point_cols]\n",
        "y_test = y_test[:, point_cols]\n",
        "y_test_noaug = y_test_noaug[:, point_cols]\n",
        "y_train_noaug = y_train_noaug[:, point_cols]\n",
        "right_y_train = right_y_train[:, point_cols]\n",
        "right_y_test = right_y_test[:, point_cols]\n"
      ],
      "metadata": {
        "id": "gbgSfjg__Otx"
      },
      "execution_count": null,
      "outputs": []
    },
    {
      "cell_type": "code",
      "source": [
        "bm = tf.keras.applications.MobileNetV3Small(\n",
        "    include_top=False,\n",
        "    weights=\"imagenet\",\n",
        "    input_shape=shape,\n",
        ")\n",
        "bm.trainable=False"
      ],
      "metadata": {
        "id": "zTXrvayQ6HUe"
      },
      "execution_count": null,
      "outputs": []
    },
    {
      "cell_type": "code",
      "source": [
        "inputs = tf.keras.Input(shape=shape)\n",
        "x = bm(inputs, training=False)\n",
        "# x.trainable = False\n",
        "# x = tf.keras.layers.Conv2D(256, (3, 3), activation='tanh')(x)\n",
        "x = tf.keras.layers.Flatten()(x)\n",
        "x = tf.keras.layers.Dropout(0.2)(x)\n",
        "x = tf.keras.layers.Dense(num_points, activation = 'relu')(x)\n",
        "model = tf.keras.Model(inputs=inputs, outputs=x)\n",
        "model.summary()"
      ],
      "metadata": {
        "colab": {
          "base_uri": "https://localhost:8080/"
        },
        "id": "2ld0dbPn6QlL",
        "outputId": "7d9a7b82-5dfe-4cad-b75c-046c0ae81e25"
      },
      "execution_count": null,
      "outputs": [
        {
          "output_type": "stream",
          "name": "stdout",
          "text": [
            "Model: \"model_3\"\n",
            "_________________________________________________________________\n",
            " Layer (type)                Output Shape              Param #   \n",
            "=================================================================\n",
            " input_8 (InputLayer)        [(None, 270, 480, 3)]     0         \n",
            "                                                                 \n",
            " resnet50v2 (Functional)     (None, 9, 15, 2048)       23564800  \n",
            "                                                                 \n",
            " flatten_3 (Flatten)         (None, 276480)            0         \n",
            "                                                                 \n",
            " dropout_3 (Dropout)         (None, 276480)            0         \n",
            "                                                                 \n",
            " dense_3 (Dense)             (None, 12)                3317772   \n",
            "                                                                 \n",
            "=================================================================\n",
            "Total params: 26882572 (102.55 MB)\n",
            "Trainable params: 3317772 (12.66 MB)\n",
            "Non-trainable params: 23564800 (89.89 MB)\n",
            "_________________________________________________________________\n"
          ]
        }
      ]
    },
    {
      "cell_type": "code",
      "source": [
        "model.compile(optimizer=tf.keras.optimizers.Adam(learning_rate=1e-4),\n",
        "                loss=tf.keras.losses.MeanSquaredError(),\n",
        "                metrics=['mae'])"
      ],
      "metadata": {
        "id": "GzRe-60O6TtB"
      },
      "execution_count": null,
      "outputs": []
    },
    {
      "cell_type": "code",
      "source": [
        "print(len(X_train_noaug), len(X_test_noaug))"
      ],
      "metadata": {
        "colab": {
          "base_uri": "https://localhost:8080/"
        },
        "id": "7B8tHWAS48Kz",
        "outputId": "9694cda6-0a26-42ec-cc01-89172ea7d020"
      },
      "execution_count": null,
      "outputs": [
        {
          "output_type": "stream",
          "name": "stdout",
          "text": [
            "476 124\n"
          ]
        }
      ]
    },
    {
      "cell_type": "code",
      "source": [
        "callback = tf.keras.callbacks.EarlyStopping('val_loss', patience=10, restore_best_weights = True)\n",
        "np.random.seed(42)\n",
        "model.fit(X_train_noaug, y_train_noaug, epochs = 400, batch_size = 32, validation_data=(X_test_noaug, y_test_noaug), callbacks = [callback])"
      ],
      "metadata": {
        "colab": {
          "base_uri": "https://localhost:8080/"
        },
        "id": "O6tI6IJu4zV6",
        "outputId": "76976ed0-8c8a-49e8-c4d3-28fd9580d666"
      },
      "execution_count": null,
      "outputs": [
        {
          "output_type": "stream",
          "name": "stdout",
          "text": [
            "Epoch 1/200\n",
            "15/15 [==============================] - 10s 390ms/step - loss: 182081.6562 - mae: 317.5600 - val_loss: 60489.8750 - val_mae: 172.7387\n",
            "Epoch 2/200\n",
            "15/15 [==============================] - 4s 276ms/step - loss: 40928.9844 - mae: 149.3003 - val_loss: 20699.9844 - val_mae: 100.6165\n",
            "Epoch 3/200\n",
            "15/15 [==============================] - 5s 316ms/step - loss: 19558.9785 - mae: 102.8962 - val_loss: 9126.4648 - val_mae: 64.4665\n",
            "Epoch 4/200\n",
            "15/15 [==============================] - 5s 311ms/step - loss: 11559.0938 - mae: 80.6867 - val_loss: 6287.7451 - val_mae: 55.7535\n",
            "Epoch 5/200\n",
            "15/15 [==============================] - 4s 279ms/step - loss: 9162.1348 - mae: 73.6294 - val_loss: 3490.1030 - val_mae: 42.3759\n",
            "Epoch 6/200\n",
            "15/15 [==============================] - 4s 284ms/step - loss: 8249.1211 - mae: 71.9594 - val_loss: 2669.5789 - val_mae: 37.4440\n",
            "Epoch 7/200\n",
            "15/15 [==============================] - 4s 283ms/step - loss: 6886.0220 - mae: 65.3945 - val_loss: 2069.3538 - val_mae: 31.5284\n",
            "Epoch 8/200\n",
            "15/15 [==============================] - 4s 306ms/step - loss: 6801.3530 - mae: 65.1163 - val_loss: 2331.6562 - val_mae: 36.1723\n",
            "Epoch 9/200\n",
            "15/15 [==============================] - 5s 316ms/step - loss: 6593.4390 - mae: 64.6846 - val_loss: 1823.9645 - val_mae: 32.6446\n",
            "Epoch 10/200\n",
            "15/15 [==============================] - 5s 311ms/step - loss: 6734.7373 - mae: 65.3578 - val_loss: 1875.3939 - val_mae: 32.9702\n",
            "Epoch 11/200\n",
            "15/15 [==============================] - 4s 285ms/step - loss: 6360.4082 - mae: 63.1547 - val_loss: 1652.8851 - val_mae: 31.5942\n",
            "Epoch 12/200\n",
            "15/15 [==============================] - 5s 317ms/step - loss: 6362.0806 - mae: 63.4340 - val_loss: 1635.1949 - val_mae: 31.6338\n",
            "Epoch 13/200\n",
            "15/15 [==============================] - 5s 321ms/step - loss: 6241.6416 - mae: 62.7821 - val_loss: 1135.5160 - val_mae: 25.8136\n",
            "Epoch 14/200\n",
            "15/15 [==============================] - 4s 281ms/step - loss: 6083.2070 - mae: 61.8788 - val_loss: 1148.3665 - val_mae: 26.2015\n",
            "Epoch 15/200\n",
            "15/15 [==============================] - 5s 309ms/step - loss: 6291.5498 - mae: 63.1733 - val_loss: 2059.4341 - val_mae: 34.7256\n",
            "Epoch 16/200\n",
            "15/15 [==============================] - 5s 315ms/step - loss: 5872.2632 - mae: 61.4137 - val_loss: 1014.9949 - val_mae: 24.6755\n",
            "Epoch 17/200\n",
            "15/15 [==============================] - 5s 314ms/step - loss: 5827.9912 - mae: 61.0122 - val_loss: 1234.3127 - val_mae: 26.8917\n",
            "Epoch 18/200\n",
            "15/15 [==============================] - 4s 274ms/step - loss: 5961.6606 - mae: 61.8564 - val_loss: 1546.3896 - val_mae: 31.2443\n",
            "Epoch 19/200\n",
            "15/15 [==============================] - 5s 306ms/step - loss: 5870.2227 - mae: 61.5408 - val_loss: 1828.7607 - val_mae: 34.2425\n",
            "Epoch 20/200\n",
            "15/15 [==============================] - 4s 278ms/step - loss: 6025.2861 - mae: 61.7616 - val_loss: 1129.4425 - val_mae: 26.2703\n",
            "Epoch 21/200\n",
            "15/15 [==============================] - 5s 311ms/step - loss: 6172.1582 - mae: 63.1662 - val_loss: 1754.6328 - val_mae: 34.5059\n",
            "Epoch 22/200\n",
            "15/15 [==============================] - 4s 273ms/step - loss: 5858.3931 - mae: 61.0214 - val_loss: 1361.4811 - val_mae: 28.8074\n",
            "Epoch 23/200\n",
            "15/15 [==============================] - 4s 273ms/step - loss: 5996.0024 - mae: 61.2889 - val_loss: 1249.9780 - val_mae: 26.9599\n",
            "Epoch 24/200\n",
            "15/15 [==============================] - 5s 310ms/step - loss: 5957.3569 - mae: 61.7490 - val_loss: 1994.6648 - val_mae: 37.3908\n",
            "Epoch 25/200\n",
            "15/15 [==============================] - 4s 275ms/step - loss: 6299.7217 - mae: 63.4642 - val_loss: 1093.0081 - val_mae: 26.6097\n",
            "Epoch 26/200\n",
            "15/15 [==============================] - 4s 284ms/step - loss: 6386.4482 - mae: 63.8737 - val_loss: 2691.2205 - val_mae: 42.0352\n"
          ]
        },
        {
          "output_type": "execute_result",
          "data": {
            "text/plain": [
              "<keras.src.callbacks.History at 0x78d520733670>"
            ]
          },
          "metadata": {},
          "execution_count": 59
        }
      ]
    },
    {
      "cell_type": "code",
      "source": [
        "# plot the history of the loss\n",
        "start = 1\n",
        "loss = model.history.history['loss']\n",
        "val_loss = model.history.history['val_loss']\n",
        "plt.plot(loss[start:], label=\"loss\")\n",
        "plt.plot(val_loss[start:], label='val loss')\n",
        "plt.title('Model Loss')\n",
        "plt.xlabel('Epoch')\n",
        "plt.legend()\n"
      ],
      "metadata": {
        "id": "mLW8jhv27FVm",
        "colab": {
          "base_uri": "https://localhost:8080/",
          "height": 490
        },
        "outputId": "20514f25-cccc-4e70-f7a5-55529f3cc7f0"
      },
      "execution_count": null,
      "outputs": [
        {
          "output_type": "execute_result",
          "data": {
            "text/plain": [
              "<matplotlib.legend.Legend at 0x78d51d6b7580>"
            ]
          },
          "metadata": {},
          "execution_count": 60
        },
        {
          "output_type": "display_data",
          "data": {
            "text/plain": [
              "<Figure size 640x480 with 1 Axes>"
            ],
            "image/png": "[encoded data removed]"
          },
          "metadata": {}
        }
      ]
    },
    {
      "cell_type": "code",
      "source": [
        "# test\n",
        "model.evaluate(X_test_noaug, y_test_noaug)"
      ],
      "metadata": {
        "id": "YDRr4dGYAro3",
        "colab": {
          "base_uri": "https://localhost:8080/"
        },
        "outputId": "174967f0-9e6a-4ddd-cc71-3a40eacc1b93"
      },
      "execution_count": null,
      "outputs": [
        {
          "output_type": "stream",
          "name": "stdout",
          "text": [
            "4/4 [==============================] - 1s 205ms/step - loss: 1014.9949 - mae: 24.6755\n"
          ]
        },
        {
          "output_type": "execute_result",
          "data": {
            "text/plain": [
              "[1014.994873046875, 24.675485610961914]"
            ]
          },
          "metadata": {},
          "execution_count": 61
        }
      ]
    },
    {
      "cell_type": "code",
      "source": [
        "# training\n",
        "model.evaluate(X_train_noaug, y_train_noaug)"
      ],
      "metadata": {
        "id": "4IcIYlR3DJdz",
        "colab": {
          "base_uri": "https://localhost:8080/"
        },
        "outputId": "408af3fc-de93-4c07-d659-8baa9b722505"
      },
      "execution_count": null,
      "outputs": [
        {
          "output_type": "stream",
          "name": "stdout",
          "text": [
            "15/15 [==============================] - 3s 214ms/step - loss: 832.4873 - mae: 22.7558\n"
          ]
        },
        {
          "output_type": "execute_result",
          "data": {
            "text/plain": [
              "[832.4873046875, 22.755794525146484]"
            ]
          },
          "metadata": {},
          "execution_count": 62
        }
      ]
    },
    {
      "cell_type": "code",
      "source": [
        "# all test data\n",
        "model.evaluate(X_test, y_test)"
      ],
      "metadata": {
        "id": "i9DXbPvgBkRR",
        "colab": {
          "base_uri": "https://localhost:8080/"
        },
        "outputId": "a292466e-9e1b-47cc-a715-f2689bca27be"
      },
      "execution_count": null,
      "outputs": [
        {
          "output_type": "stream",
          "name": "stdout",
          "text": [
            "12/12 [==============================] - 3s 211ms/step - loss: 9678.5723 - mae: 62.4371\n"
          ]
        },
        {
          "output_type": "execute_result",
          "data": {
            "text/plain": [
              "[9678.572265625, 62.43714141845703]"
            ]
          },
          "metadata": {},
          "execution_count": 63
        }
      ]
    },
    {
      "cell_type": "code",
      "source": [
        "# all training data\n",
        "model.evaluate(X_train, y_train)"
      ],
      "metadata": {
        "colab": {
          "base_uri": "https://localhost:8080/"
        },
        "id": "i31eDJQUN7hM",
        "outputId": "21589c83-dd63-4f01-b533-6ac5cc06faf1"
      },
      "execution_count": null,
      "outputs": [
        {
          "output_type": "stream",
          "name": "stdout",
          "text": [
            "45/45 [==============================] - 10s 213ms/step - loss: 9604.9297 - mae: 61.8742\n"
          ]
        },
        {
          "output_type": "execute_result",
          "data": {
            "text/plain": [
              "[9604.9296875, 61.874202728271484]"
            ]
          },
          "metadata": {},
          "execution_count": 64
        }
      ]
    },
    {
      "cell_type": "code",
      "source": [
        "# unfreeze model weights for saving\n",
        "bm.trainable = True\n",
        "model.summary()"
      ],
      "metadata": {
        "colab": {
          "base_uri": "https://localhost:8080/"
        },
        "id": "9TTimBrASJLp",
        "outputId": "16b7fa6f-ac6a-4630-ce22-40d03c888bef"
      },
      "execution_count": null,
      "outputs": [
        {
          "output_type": "stream",
          "name": "stdout",
          "text": [
            "Model: \"model_3\"\n",
            "_________________________________________________________________\n",
            " Layer (type)                Output Shape              Param #   \n",
            "=================================================================\n",
            " input_8 (InputLayer)        [(None, 270, 480, 3)]     0         \n",
            "                                                                 \n",
            " resnet50v2 (Functional)     (None, 9, 15, 2048)       23564800  \n",
            "                                                                 \n",
            " flatten_3 (Flatten)         (None, 276480)            0         \n",
            "                                                                 \n",
            " dropout_3 (Dropout)         (None, 276480)            0         \n",
            "                                                                 \n",
            " dense_3 (Dense)             (None, 12)                3317772   \n",
            "                                                                 \n",
            "=================================================================\n",
            "Total params: 26882572 (102.55 MB)\n",
            "Trainable params: 26837132 (102.38 MB)\n",
            "Non-trainable params: 45440 (177.50 KB)\n",
            "_________________________________________________________________\n"
          ]
        }
      ]
    },
    {
      "cell_type": "code",
      "source": [
        "# save weights\n",
        "from google.colab import files\n",
        "filename = 'MobileNetV3Small_flips_only.h5'\n",
        "model.save_weights(filename)\n",
        "files.download(filename)"
      ],
      "metadata": {
        "id": "Os9x2aeuA1Xq",
        "colab": {
          "base_uri": "https://localhost:8080/",
          "height": 17
        },
        "outputId": "af2cea00-46a7-4de2-d0f2-fde033b406ff"
      },
      "execution_count": null,
      "outputs": [
        {
          "output_type": "display_data",
          "data": {
            "text/plain": [
              "<IPython.core.display.Javascript object>"
            ],
            "application/javascript": [
              "\n",
              "    async function download(id, filename, size) {\n",
              "      if (!google.colab.kernel.accessAllowed) {\n",
              "        return;\n",
              "      }\n",
              "      const div = document.createElement('div');\n",
              "      const label = document.createElement('label');\n",
              "      label.textContent = `Downloading \"${filename}\": `;\n",
              "      div.appendChild(label);\n",
              "      const progress = document.createElement('progress');\n",
              "      progress.max = size;\n",
              "      div.appendChild(progress);\n",
              "      document.body.appendChild(div);\n",
              "\n",
              "      const buffers = [];\n",
              "      let downloaded = 0;\n",
              "\n",
              "      const channel = await google.colab.kernel.comms.open(id);\n",
              "      // Send a message to notify the kernel that we're ready.\n",
              "      channel.send({})\n",
              "\n",
              "      for await (const message of channel.messages) {\n",
              "        // Send a message to notify the kernel that we're ready.\n",
              "        channel.send({})\n",
              "        if (message.buffers) {\n",
              "          for (const buffer of message.buffers) {\n",
              "            buffers.push(buffer);\n",
              "            downloaded += buffer.byteLength;\n",
              "            progress.value = downloaded;\n",
              "          }\n",
              "        }\n",
              "      }\n",
              "      const blob = new Blob(buffers, {type: 'application/binary'});\n",
              "      const a = document.createElement('a');\n",
              "      a.href = window.URL.createObjectURL(blob);\n",
              "      a.download = filename;\n",
              "      div.appendChild(a);\n",
              "      a.click();\n",
              "      div.remove();\n",
              "    }\n",
              "  "
            ]
          },
          "metadata": {}
        },
        {
          "output_type": "display_data",
          "data": {
            "text/plain": [
              "<IPython.core.display.Javascript object>"
            ],
            "application/javascript": [
              "download(\"download_6fd46750-4c55-44a5-a294-5ba1e7c2c4e6\", \"resnet50v2_flips_only.h5\", 107756808)"
            ]
          },
          "metadata": {}
        }
      ]
    }
  ]
}