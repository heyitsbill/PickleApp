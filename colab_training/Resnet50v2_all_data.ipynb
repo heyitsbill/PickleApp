{
  "nbformat": 4,
  "nbformat_minor": 0,
  "metadata": {
    "colab": {
      "provenance": [],
      "gpuType": "T4"
    },
    "kernelspec": {
      "name": "python3",
      "display_name": "Python 3"
    },
    "language_info": {
      "name": "python"
    },
    "accelerator": "GPU"
  },
  "cells": [
    {
      "cell_type": "code",
      "execution_count": null,
      "metadata": {
        "id": "mVFNuFFT5GEE"
      },
      "outputs": [],
      "source": [
        "import numpy as np\n",
        "import tensorflow as tf\n",
        "import matplotlib.pyplot as plt\n",
        "import os\n",
        "import pandas as pd"
      ]
    },
    {
      "cell_type": "code",
      "source": [
        "os.chdir('/content/drive/MyDrive/Pickleapp/20231129')"
      ],
      "metadata": {
        "id": "q-kcIur71z3R"
      },
      "execution_count": null,
      "outputs": []
    },
    {
      "cell_type": "code",
      "source": [
        "X_train = np.load(\"train_X.npy\")\n",
        "y_train = np.load(\"train_y.npy\")\n",
        "X_test = np.load(\"test_X.npy\")\n",
        "y_test = np.load(\"test_y.npy\")\n",
        "X_test_noaug = np.load(\"noaug_test_X.npy\")\n",
        "y_test_noaug = np.load(\"noaug_test_y.npy\")\n",
        "right_X_train = np.load(\"right_orient_train_X.npy\")\n",
        "right_y_train = np.load(\"right_orient_train_y.npy\")\n",
        "right_X_test = np.load(\"right_orient_test_X.npy\")\n",
        "right_y_test = np.load(\"right_orient_test_y.npy\")\n"
      ],
      "metadata": {
        "id": "RvOUeJsv51OR"
      },
      "execution_count": null,
      "outputs": []
    },
    {
      "cell_type": "code",
      "source": [
        "shape = (270, 480, 3)\n",
        "points = [1,2,3,4,5,6]\n",
        "point_cols = [(2 * (p-1), 2 * (p-1) + 1) for p in points]\n",
        "point_cols = np.array(point_cols).flatten()\n",
        "num_points = len(points) * 2\n",
        "\n",
        "y_train = y_train[:, point_cols]\n",
        "y_test = y_test[:, point_cols]\n",
        "y_test_noaug = y_test_noaug[:, point_cols]\n",
        "right_y_train = right_y_train[:, point_cols]\n",
        "right_y_test = right_y_test[:, point_cols]\n"
      ],
      "metadata": {
        "id": "gbgSfjg__Otx"
      },
      "execution_count": null,
      "outputs": []
    },
    {
      "cell_type": "code",
      "source": [
        "bm = tf.keras.applications.ResNet50V2(\n",
        "    include_top=False,\n",
        "    weights=\"imagenet\",\n",
        "    input_shape=shape,\n",
        ")\n",
        "bm.trainable=False"
      ],
      "metadata": {
        "id": "zTXrvayQ6HUe"
      },
      "execution_count": null,
      "outputs": []
    },
    {
      "cell_type": "code",
      "source": [
        "inputs = tf.keras.Input(shape=shape)\n",
        "x = bm(inputs, training=False)\n",
        "# x.trainable = False\n",
        "# x = tf.keras.layers.Conv2D(256, (3, 3), activation='tanh')(x)\n",
        "x = tf.keras.layers.Flatten()(x)\n",
        "x = tf.keras.layers.Dropout(0.2)(x)\n",
        "x = tf.keras.layers.Dense(num_points, activation = 'relu')(x)\n",
        "model = tf.keras.Model(inputs=inputs, outputs=x)\n",
        "model.summary()"
      ],
      "metadata": {
        "colab": {
          "base_uri": "https://localhost:8080/"
        },
        "id": "2ld0dbPn6QlL",
        "outputId": "a1e1a8c7-3bfe-4778-be46-d1774c690edf"
      },
      "execution_count": null,
      "outputs": [
        {
          "output_type": "stream",
          "name": "stdout",
          "text": [
            "Model: \"model_3\"\n",
            "_________________________________________________________________\n",
            " Layer (type)                Output Shape              Param #   \n",
            "=================================================================\n",
            " input_8 (InputLayer)        [(None, 270, 480, 3)]     0         \n",
            "                                                                 \n",
            " resnet50v2 (Functional)     (None, 9, 15, 2048)       23564800  \n",
            "                                                                 \n",
            " flatten_3 (Flatten)         (None, 276480)            0         \n",
            "                                                                 \n",
            " dropout_3 (Dropout)         (None, 276480)            0         \n",
            "                                                                 \n",
            " dense_3 (Dense)             (None, 12)                3317772   \n",
            "                                                                 \n",
            "=================================================================\n",
            "Total params: 26882572 (102.55 MB)\n",
            "Trainable params: 3317772 (12.66 MB)\n",
            "Non-trainable params: 23564800 (89.89 MB)\n",
            "_________________________________________________________________\n"
          ]
        }
      ]
    },
    {
      "cell_type": "code",
      "source": [
        "def average_distance_loss(y_true, y_pred):\n",
        "    \"\"\"\n",
        "    Custom loss function to calculate the average distance between predicted and target coordinates for 6 points.\n",
        "\n",
        "    Parameters:\n",
        "    - y_true: Tensor of shape (batch_size, 12), representing the target coordinates.\n",
        "    - y_pred: Tensor of shape (batch_size, 12), representing the predicted coordinates.\n",
        "\n",
        "    Returns:\n",
        "    - loss: Tensor representing the average distance loss.\n",
        "    \"\"\"\n",
        "    # Reshape the tensors to (batch_size, 6, 2) for easy indexing of coordinates\n",
        "    # print(y_true)\n",
        "    # print(y_pred)\n",
        "    y_true = tf.reshape(y_true, (-1, 6, 2))\n",
        "    y_pred = tf.reshape(y_pred, (-1, 6, 2))\n",
        "\n",
        "    # Calculate Euclidean distance between each pair of coordinates\n",
        "    distances = tf.norm(y_true - y_pred, axis=-1)\n",
        "    # print(distances)\n",
        "    # Calculate the average distance across all coordinates and batches\n",
        "    loss = tf.reduce_mean(distances)\n",
        "\n",
        "    return loss"
      ],
      "metadata": {
        "id": "AW1R63R0IpF6"
      },
      "execution_count": null,
      "outputs": []
    },
    {
      "cell_type": "code",
      "source": [
        "model.compile(optimizer=tf.keras.optimizers.Adam(learning_rate=1e-4),\n",
        "                loss=average_distance_loss,\n",
        "                metrics=['mae'])"
      ],
      "metadata": {
        "id": "GzRe-60O6TtB"
      },
      "execution_count": null,
      "outputs": []
    },
    {
      "cell_type": "code",
      "source": [
        "print(len(X_train), len(X_test))"
      ],
      "metadata": {
        "colab": {
          "base_uri": "https://localhost:8080/"
        },
        "id": "7B8tHWAS48Kz",
        "outputId": "b08057aa-2ad5-4daf-a411-55e151f7db64"
      },
      "execution_count": null,
      "outputs": [
        {
          "output_type": "stream",
          "name": "stdout",
          "text": [
            "1428 372\n"
          ]
        }
      ]
    },
    {
      "cell_type": "code",
      "source": [
        "callback = tf.keras.callbacks.EarlyStopping('val_loss', patience=200, restore_best_weights = True)\n",
        "np.random.seed(42)\n",
        "model.fit(X_train, y_train, epochs = 200, batch_size = 32, validation_data=(X_test, y_test), callbacks = [callback])"
      ],
      "metadata": {
        "colab": {
          "base_uri": "https://localhost:8080/"
        },
        "id": "O6tI6IJu4zV6",
        "outputId": "a21f2179-bf48-40ab-ab23-6fb17d774286"
      },
      "execution_count": null,
      "outputs": [
        {
          "output_type": "stream",
          "name": "stdout",
          "text": [
            "Epoch 1/200\n",
            "45/45 [==============================] - 18s 307ms/step - loss: 395.9865 - mae: 235.1902 - val_loss: 265.5263 - val_mae: 148.8753\n",
            "Epoch 2/200\n",
            "45/45 [==============================] - 12s 278ms/step - loss: 274.4953 - mae: 157.4415 - val_loss: 238.0001 - val_mae: 131.7498\n",
            "Epoch 3/200\n",
            "45/45 [==============================] - 12s 277ms/step - loss: 262.9409 - mae: 149.9789 - val_loss: 229.4155 - val_mae: 125.6439\n",
            "Epoch 4/200\n",
            "45/45 [==============================] - 12s 274ms/step - loss: 258.5563 - mae: 147.8777 - val_loss: 241.5626 - val_mae: 133.9348\n",
            "Epoch 5/200\n",
            "45/45 [==============================] - 12s 276ms/step - loss: 253.5502 - mae: 144.7328 - val_loss: 222.3870 - val_mae: 122.2486\n",
            "Epoch 6/200\n",
            "45/45 [==============================] - 12s 277ms/step - loss: 222.3334 - mae: 129.5944 - val_loss: 78.0001 - val_mae: 49.9802\n",
            "Epoch 7/200\n",
            "45/45 [==============================] - 12s 276ms/step - loss: 117.5509 - mae: 74.7099 - val_loss: 87.5777 - val_mae: 54.0223\n",
            "Epoch 8/200\n",
            "45/45 [==============================] - 12s 277ms/step - loss: 112.6522 - mae: 71.7096 - val_loss: 89.7683 - val_mae: 57.6478\n",
            "Epoch 9/200\n",
            "45/45 [==============================] - 12s 279ms/step - loss: 114.0400 - mae: 72.6543 - val_loss: 73.6310 - val_mae: 46.2618\n",
            "Epoch 10/200\n",
            "45/45 [==============================] - 12s 275ms/step - loss: 107.4021 - mae: 68.5235 - val_loss: 81.8566 - val_mae: 52.8671\n",
            "Epoch 11/200\n",
            "45/45 [==============================] - 13s 279ms/step - loss: 106.6755 - mae: 67.9435 - val_loss: 71.2722 - val_mae: 45.0026\n",
            "Epoch 12/200\n",
            "45/45 [==============================] - 12s 276ms/step - loss: 103.3560 - mae: 65.7472 - val_loss: 76.9979 - val_mae: 48.3164\n",
            "Epoch 13/200\n",
            "45/45 [==============================] - 12s 278ms/step - loss: 101.9777 - mae: 64.9541 - val_loss: 87.6217 - val_mae: 57.2784\n",
            "Epoch 14/200\n",
            "45/45 [==============================] - 12s 275ms/step - loss: 99.1459 - mae: 63.2776 - val_loss: 76.0825 - val_mae: 47.4376\n",
            "Epoch 15/200\n",
            "45/45 [==============================] - 12s 276ms/step - loss: 102.3353 - mae: 65.1640 - val_loss: 66.4850 - val_mae: 41.3373\n",
            "Epoch 16/200\n",
            "45/45 [==============================] - 12s 275ms/step - loss: 98.7071 - mae: 62.7735 - val_loss: 80.7539 - val_mae: 52.6629\n",
            "Epoch 17/200\n",
            "45/45 [==============================] - 12s 275ms/step - loss: 96.9264 - mae: 61.6881 - val_loss: 69.3291 - val_mae: 44.4928\n",
            "Epoch 18/200\n",
            "45/45 [==============================] - 12s 279ms/step - loss: 100.3406 - mae: 63.7657 - val_loss: 61.9242 - val_mae: 38.9949\n",
            "Epoch 19/200\n",
            "45/45 [==============================] - 12s 276ms/step - loss: 92.4421 - mae: 58.7728 - val_loss: 64.5739 - val_mae: 40.8602\n",
            "Epoch 20/200\n",
            "45/45 [==============================] - 12s 276ms/step - loss: 95.1229 - mae: 60.3527 - val_loss: 71.0287 - val_mae: 43.9814\n",
            "Epoch 21/200\n",
            "45/45 [==============================] - 13s 279ms/step - loss: 89.2930 - mae: 56.8241 - val_loss: 59.9676 - val_mae: 38.1333\n",
            "Epoch 22/200\n",
            "45/45 [==============================] - 12s 276ms/step - loss: 93.6583 - mae: 59.7099 - val_loss: 72.1004 - val_mae: 45.0294\n",
            "Epoch 23/200\n",
            "45/45 [==============================] - 12s 275ms/step - loss: 92.1320 - mae: 58.8023 - val_loss: 69.6127 - val_mae: 44.6554\n",
            "Epoch 24/200\n",
            "45/45 [==============================] - 12s 274ms/step - loss: 89.0089 - mae: 56.6315 - val_loss: 61.8024 - val_mae: 40.3389\n",
            "Epoch 25/200\n",
            "45/45 [==============================] - 12s 278ms/step - loss: 94.0688 - mae: 59.8199 - val_loss: 53.5812 - val_mae: 33.6822\n",
            "Epoch 26/200\n",
            "45/45 [==============================] - 13s 280ms/step - loss: 85.2096 - mae: 54.2785 - val_loss: 50.2314 - val_mae: 31.7656\n",
            "Epoch 27/200\n",
            "45/45 [==============================] - 12s 276ms/step - loss: 85.3425 - mae: 54.3446 - val_loss: 55.8404 - val_mae: 35.5545\n",
            "Epoch 28/200\n",
            "45/45 [==============================] - 12s 275ms/step - loss: 86.3582 - mae: 54.9821 - val_loss: 67.3599 - val_mae: 42.4206\n",
            "Epoch 29/200\n",
            "45/45 [==============================] - 12s 276ms/step - loss: 85.1169 - mae: 54.1924 - val_loss: 66.9030 - val_mae: 43.1910\n",
            "Epoch 30/200\n",
            "45/45 [==============================] - 12s 278ms/step - loss: 85.3854 - mae: 54.4270 - val_loss: 60.6847 - val_mae: 38.5546\n",
            "Epoch 31/200\n",
            "45/45 [==============================] - 12s 276ms/step - loss: 82.3959 - mae: 52.3721 - val_loss: 57.5591 - val_mae: 37.2348\n",
            "Epoch 32/200\n",
            "45/45 [==============================] - 12s 277ms/step - loss: 83.4841 - mae: 53.0818 - val_loss: 51.6672 - val_mae: 32.7932\n",
            "Epoch 33/200\n",
            "45/45 [==============================] - 12s 274ms/step - loss: 82.1670 - mae: 52.2203 - val_loss: 54.5117 - val_mae: 34.3995\n",
            "Epoch 34/200\n",
            "45/45 [==============================] - 12s 276ms/step - loss: 83.7539 - mae: 53.2013 - val_loss: 77.9774 - val_mae: 50.4808\n",
            "Epoch 35/200\n",
            "45/45 [==============================] - 12s 277ms/step - loss: 82.5109 - mae: 52.4702 - val_loss: 64.6006 - val_mae: 40.8671\n",
            "Epoch 36/200\n",
            "45/45 [==============================] - 12s 278ms/step - loss: 76.7962 - mae: 48.7683 - val_loss: 53.3633 - val_mae: 33.7062\n",
            "Epoch 37/200\n",
            "45/45 [==============================] - 12s 276ms/step - loss: 80.5213 - mae: 51.4323 - val_loss: 60.2556 - val_mae: 39.3752\n",
            "Epoch 38/200\n",
            "45/45 [==============================] - 12s 275ms/step - loss: 76.5552 - mae: 48.6370 - val_loss: 69.0569 - val_mae: 44.3567\n",
            "Epoch 39/200\n",
            "45/45 [==============================] - 12s 278ms/step - loss: 83.7076 - mae: 53.2687 - val_loss: 53.6304 - val_mae: 33.9007\n",
            "Epoch 40/200\n",
            "45/45 [==============================] - 12s 275ms/step - loss: 78.9851 - mae: 50.2585 - val_loss: 73.8349 - val_mae: 46.2888\n",
            "Epoch 41/200\n",
            "45/45 [==============================] - 13s 280ms/step - loss: 76.7867 - mae: 49.0182 - val_loss: 47.3016 - val_mae: 30.3018\n",
            "Epoch 42/200\n",
            "45/45 [==============================] - 12s 274ms/step - loss: 72.9734 - mae: 46.5187 - val_loss: 68.7515 - val_mae: 45.1699\n",
            "Epoch 43/200\n",
            "45/45 [==============================] - 12s 275ms/step - loss: 77.6378 - mae: 49.3250 - val_loss: 57.2166 - val_mae: 35.4302\n",
            "Epoch 44/200\n",
            "45/45 [==============================] - 12s 276ms/step - loss: 77.3475 - mae: 49.1102 - val_loss: 61.5330 - val_mae: 38.0234\n",
            "Epoch 45/200\n",
            "45/45 [==============================] - 12s 277ms/step - loss: 83.0609 - mae: 52.9151 - val_loss: 66.1493 - val_mae: 43.1416\n",
            "Epoch 46/200\n",
            "45/45 [==============================] - 12s 276ms/step - loss: 75.8767 - mae: 48.4187 - val_loss: 68.4833 - val_mae: 43.2163\n",
            "Epoch 47/200\n",
            "45/45 [==============================] - 12s 274ms/step - loss: 77.9029 - mae: 49.5381 - val_loss: 55.8550 - val_mae: 36.0176\n",
            "Epoch 48/200\n",
            "45/45 [==============================] - 12s 276ms/step - loss: 73.8573 - mae: 47.0120 - val_loss: 62.3020 - val_mae: 38.6180\n",
            "Epoch 49/200\n",
            "45/45 [==============================] - 12s 277ms/step - loss: 78.2319 - mae: 49.7822 - val_loss: 78.2995 - val_mae: 49.8766\n",
            "Epoch 50/200\n",
            "45/45 [==============================] - 12s 278ms/step - loss: 74.1312 - mae: 47.2962 - val_loss: 47.1681 - val_mae: 29.7067\n",
            "Epoch 51/200\n",
            "45/45 [==============================] - 12s 274ms/step - loss: 71.7329 - mae: 45.6327 - val_loss: 75.0062 - val_mae: 46.6023\n",
            "Epoch 52/200\n",
            "45/45 [==============================] - 12s 276ms/step - loss: 74.5507 - mae: 47.3166 - val_loss: 70.0664 - val_mae: 44.2186\n",
            "Epoch 53/200\n",
            "45/45 [==============================] - 12s 275ms/step - loss: 80.7238 - mae: 51.3327 - val_loss: 51.0002 - val_mae: 32.7612\n",
            "Epoch 54/200\n",
            "45/45 [==============================] - 12s 276ms/step - loss: 71.6065 - mae: 45.5331 - val_loss: 59.8051 - val_mae: 38.2341\n",
            "Epoch 55/200\n",
            "45/45 [==============================] - 12s 275ms/step - loss: 68.7215 - mae: 43.7849 - val_loss: 51.6481 - val_mae: 32.7772\n",
            "Epoch 56/200\n",
            "45/45 [==============================] - 12s 276ms/step - loss: 69.7716 - mae: 44.5262 - val_loss: 67.1581 - val_mae: 43.6237\n",
            "Epoch 57/200\n",
            "45/45 [==============================] - 12s 275ms/step - loss: 68.6037 - mae: 43.6632 - val_loss: 55.2827 - val_mae: 34.7775\n",
            "Epoch 58/200\n",
            "45/45 [==============================] - 12s 277ms/step - loss: 67.4612 - mae: 43.0935 - val_loss: 54.0395 - val_mae: 34.8703\n",
            "Epoch 59/200\n",
            "45/45 [==============================] - 12s 276ms/step - loss: 65.3514 - mae: 41.6340 - val_loss: 47.6321 - val_mae: 30.5379\n",
            "Epoch 60/200\n",
            "45/45 [==============================] - 12s 274ms/step - loss: 69.9576 - mae: 44.4843 - val_loss: 71.0337 - val_mae: 44.1486\n",
            "Epoch 61/200\n",
            "45/45 [==============================] - 12s 277ms/step - loss: 71.4650 - mae: 45.5770 - val_loss: 52.4040 - val_mae: 33.8750\n",
            "Epoch 62/200\n",
            "45/45 [==============================] - 12s 275ms/step - loss: 65.7700 - mae: 41.6953 - val_loss: 63.2503 - val_mae: 40.1670\n",
            "Epoch 63/200\n",
            "45/45 [==============================] - 12s 275ms/step - loss: 66.6403 - mae: 42.3650 - val_loss: 64.2592 - val_mae: 41.1649\n",
            "Epoch 64/200\n",
            "45/45 [==============================] - 12s 273ms/step - loss: 66.8791 - mae: 42.5179 - val_loss: 48.5210 - val_mae: 31.3002\n",
            "Epoch 65/200\n",
            "45/45 [==============================] - 12s 276ms/step - loss: 66.4040 - mae: 42.2563 - val_loss: 70.7340 - val_mae: 43.2436\n",
            "Epoch 66/200\n",
            "45/45 [==============================] - 12s 277ms/step - loss: 66.7250 - mae: 42.3452 - val_loss: 66.2943 - val_mae: 42.0469\n",
            "Epoch 67/200\n",
            "45/45 [==============================] - 12s 278ms/step - loss: 65.4294 - mae: 41.5844 - val_loss: 54.9155 - val_mae: 34.4180\n",
            "Epoch 68/200\n",
            "45/45 [==============================] - 12s 276ms/step - loss: 68.4033 - mae: 43.5793 - val_loss: 67.0236 - val_mae: 42.7760\n",
            "Epoch 69/200\n",
            "45/45 [==============================] - 12s 275ms/step - loss: 69.4731 - mae: 44.1075 - val_loss: 64.7410 - val_mae: 40.5308\n",
            "Epoch 70/200\n",
            "45/45 [==============================] - 12s 278ms/step - loss: 66.2592 - mae: 42.1659 - val_loss: 50.5257 - val_mae: 32.6037\n",
            "Epoch 71/200\n",
            "45/45 [==============================] - 12s 278ms/step - loss: 67.2991 - mae: 42.6362 - val_loss: 58.0101 - val_mae: 38.1094\n",
            "Epoch 72/200\n",
            "45/45 [==============================] - 12s 274ms/step - loss: 65.1666 - mae: 41.5529 - val_loss: 47.6050 - val_mae: 30.0456\n",
            "Epoch 73/200\n",
            "45/45 [==============================] - 12s 276ms/step - loss: 62.7897 - mae: 40.0771 - val_loss: 68.8749 - val_mae: 42.2927\n",
            "Epoch 74/200\n",
            "45/45 [==============================] - 12s 275ms/step - loss: 69.1276 - mae: 43.8841 - val_loss: 56.3696 - val_mae: 35.8813\n",
            "Epoch 75/200\n",
            "45/45 [==============================] - 12s 276ms/step - loss: 66.3227 - mae: 42.2619 - val_loss: 64.9075 - val_mae: 40.6610\n",
            "Epoch 76/200\n",
            "45/45 [==============================] - 12s 276ms/step - loss: 63.8876 - mae: 40.6989 - val_loss: 58.4455 - val_mae: 37.9676\n",
            "Epoch 77/200\n",
            "45/45 [==============================] - 12s 274ms/step - loss: 61.1638 - mae: 38.8261 - val_loss: 51.8492 - val_mae: 33.4293\n",
            "Epoch 78/200\n",
            "45/45 [==============================] - 12s 276ms/step - loss: 61.8988 - mae: 39.4000 - val_loss: 76.3647 - val_mae: 48.8356\n",
            "Epoch 79/200\n",
            "45/45 [==============================] - 12s 276ms/step - loss: 65.3183 - mae: 41.3844 - val_loss: 54.5364 - val_mae: 33.9572\n",
            "Epoch 80/200\n",
            "45/45 [==============================] - 12s 277ms/step - loss: 65.5784 - mae: 41.7793 - val_loss: 56.4645 - val_mae: 36.3284\n",
            "Epoch 81/200\n",
            "45/45 [==============================] - 12s 275ms/step - loss: 62.0856 - mae: 39.4586 - val_loss: 51.5247 - val_mae: 32.6367\n",
            "Epoch 82/200\n",
            "45/45 [==============================] - 12s 278ms/step - loss: 63.2522 - mae: 40.3525 - val_loss: 43.9687 - val_mae: 28.1143\n",
            "Epoch 83/200\n",
            "45/45 [==============================] - 12s 277ms/step - loss: 63.8561 - mae: 40.5507 - val_loss: 60.6056 - val_mae: 38.6751\n",
            "Epoch 84/200\n",
            "45/45 [==============================] - 12s 278ms/step - loss: 62.8731 - mae: 40.1469 - val_loss: 52.0446 - val_mae: 33.5369\n",
            "Epoch 85/200\n",
            "45/45 [==============================] - 12s 275ms/step - loss: 60.6537 - mae: 38.5526 - val_loss: 54.7739 - val_mae: 34.9645\n",
            "Epoch 86/200\n",
            "45/45 [==============================] - 12s 276ms/step - loss: 60.4924 - mae: 38.6061 - val_loss: 46.4072 - val_mae: 29.6949\n",
            "Epoch 87/200\n",
            "45/45 [==============================] - 12s 276ms/step - loss: 60.7054 - mae: 38.6648 - val_loss: 72.6025 - val_mae: 44.9399\n",
            "Epoch 88/200\n",
            "45/45 [==============================] - 12s 278ms/step - loss: 68.4193 - mae: 43.2283 - val_loss: 61.9773 - val_mae: 38.0057\n",
            "Epoch 89/200\n",
            "45/45 [==============================] - 12s 276ms/step - loss: 60.5874 - mae: 38.3354 - val_loss: 50.1245 - val_mae: 31.9226\n",
            "Epoch 90/200\n",
            "45/45 [==============================] - 12s 275ms/step - loss: 61.8492 - mae: 39.3996 - val_loss: 62.9539 - val_mae: 39.3644\n",
            "Epoch 91/200\n",
            "45/45 [==============================] - 12s 277ms/step - loss: 63.2617 - mae: 40.0714 - val_loss: 48.4268 - val_mae: 30.0723\n",
            "Epoch 92/200\n",
            "45/45 [==============================] - 12s 276ms/step - loss: 66.4871 - mae: 42.0478 - val_loss: 57.1106 - val_mae: 35.9908\n",
            "Epoch 93/200\n",
            "45/45 [==============================] - 12s 276ms/step - loss: 64.1367 - mae: 40.8011 - val_loss: 65.7801 - val_mae: 42.2381\n",
            "Epoch 94/200\n",
            "45/45 [==============================] - 12s 276ms/step - loss: 63.9644 - mae: 40.7895 - val_loss: 44.4794 - val_mae: 28.6337\n",
            "Epoch 95/200\n",
            "45/45 [==============================] - 12s 275ms/step - loss: 59.4101 - mae: 37.7458 - val_loss: 54.5495 - val_mae: 35.4171\n",
            "Epoch 96/200\n",
            "45/45 [==============================] - 12s 275ms/step - loss: 61.4861 - mae: 39.2459 - val_loss: 71.5793 - val_mae: 45.9029\n",
            "Epoch 97/200\n",
            "45/45 [==============================] - 12s 279ms/step - loss: 61.9552 - mae: 39.5062 - val_loss: 59.2414 - val_mae: 38.1455\n",
            "Epoch 98/200\n",
            "45/45 [==============================] - 12s 275ms/step - loss: 58.2622 - mae: 37.0142 - val_loss: 56.3778 - val_mae: 35.7019\n",
            "Epoch 99/200\n",
            "45/45 [==============================] - 12s 276ms/step - loss: 56.7262 - mae: 36.0741 - val_loss: 49.0781 - val_mae: 31.0238\n",
            "Epoch 100/200\n",
            "45/45 [==============================] - 12s 276ms/step - loss: 60.3324 - mae: 38.2949 - val_loss: 61.6283 - val_mae: 38.7417\n",
            "Epoch 101/200\n",
            "45/45 [==============================] - 12s 278ms/step - loss: 56.9096 - mae: 36.2166 - val_loss: 53.8368 - val_mae: 34.9817\n",
            "Epoch 102/200\n",
            "45/45 [==============================] - 13s 280ms/step - loss: 59.7068 - mae: 38.1610 - val_loss: 42.9902 - val_mae: 27.3915\n",
            "Epoch 103/200\n",
            "45/45 [==============================] - 12s 276ms/step - loss: 56.3546 - mae: 35.7615 - val_loss: 43.3090 - val_mae: 27.3410\n",
            "Epoch 104/200\n",
            "45/45 [==============================] - 12s 276ms/step - loss: 53.8449 - mae: 34.3348 - val_loss: 51.6315 - val_mae: 32.0360\n",
            "Epoch 105/200\n",
            "45/45 [==============================] - 12s 276ms/step - loss: 58.8824 - mae: 37.4133 - val_loss: 55.8806 - val_mae: 35.0695\n",
            "Epoch 106/200\n",
            "45/45 [==============================] - 12s 277ms/step - loss: 57.8117 - mae: 36.7104 - val_loss: 47.4668 - val_mae: 30.3620\n",
            "Epoch 107/200\n",
            "45/45 [==============================] - 12s 277ms/step - loss: 57.9101 - mae: 36.8548 - val_loss: 59.1028 - val_mae: 38.6537\n",
            "Epoch 108/200\n",
            "45/45 [==============================] - 12s 276ms/step - loss: 58.0662 - mae: 36.9294 - val_loss: 52.3422 - val_mae: 33.3737\n",
            "Epoch 109/200\n",
            "45/45 [==============================] - 12s 276ms/step - loss: 57.4123 - mae: 36.5742 - val_loss: 50.7974 - val_mae: 32.3063\n",
            "Epoch 110/200\n",
            "45/45 [==============================] - 12s 276ms/step - loss: 56.8062 - mae: 36.2372 - val_loss: 46.2705 - val_mae: 29.7852\n",
            "Epoch 111/200\n",
            "45/45 [==============================] - 12s 277ms/step - loss: 58.5398 - mae: 37.3715 - val_loss: 66.7339 - val_mae: 42.4062\n",
            "Epoch 112/200\n",
            "45/45 [==============================] - 12s 276ms/step - loss: 59.7607 - mae: 38.0270 - val_loss: 50.1189 - val_mae: 32.1240\n",
            "Epoch 113/200\n",
            "45/45 [==============================] - 12s 277ms/step - loss: 60.4144 - mae: 38.5622 - val_loss: 53.0808 - val_mae: 33.6253\n",
            "Epoch 114/200\n",
            "45/45 [==============================] - 12s 278ms/step - loss: 58.5575 - mae: 37.3260 - val_loss: 56.7805 - val_mae: 35.7451\n",
            "Epoch 115/200\n",
            "45/45 [==============================] - 12s 277ms/step - loss: 56.5725 - mae: 36.0227 - val_loss: 48.7772 - val_mae: 30.0596\n",
            "Epoch 116/200\n",
            "45/45 [==============================] - 12s 277ms/step - loss: 56.8147 - mae: 35.8305 - val_loss: 53.1894 - val_mae: 33.8328\n",
            "Epoch 117/200\n",
            "45/45 [==============================] - 12s 274ms/step - loss: 56.3246 - mae: 36.0073 - val_loss: 58.6785 - val_mae: 37.6701\n",
            "Epoch 118/200\n",
            "45/45 [==============================] - 12s 275ms/step - loss: 54.1049 - mae: 34.4273 - val_loss: 55.8443 - val_mae: 35.3895\n",
            "Epoch 119/200\n",
            "45/45 [==============================] - 12s 276ms/step - loss: 57.9699 - mae: 36.9323 - val_loss: 53.9995 - val_mae: 34.4656\n",
            "Epoch 120/200\n",
            "45/45 [==============================] - 12s 276ms/step - loss: 57.9753 - mae: 37.0863 - val_loss: 55.5507 - val_mae: 35.8123\n",
            "Epoch 121/200\n",
            "45/45 [==============================] - 12s 276ms/step - loss: 58.8359 - mae: 37.4606 - val_loss: 49.2723 - val_mae: 31.2200\n",
            "Epoch 122/200\n",
            "45/45 [==============================] - 12s 274ms/step - loss: 54.8372 - mae: 34.9142 - val_loss: 53.1228 - val_mae: 33.5890\n",
            "Epoch 123/200\n",
            "45/45 [==============================] - 12s 278ms/step - loss: 57.4159 - mae: 36.5152 - val_loss: 72.0870 - val_mae: 45.8779\n",
            "Epoch 124/200\n",
            "45/45 [==============================] - 13s 280ms/step - loss: 58.2826 - mae: 36.6920 - val_loss: 42.4136 - val_mae: 26.4147\n",
            "Epoch 125/200\n",
            "45/45 [==============================] - 12s 276ms/step - loss: 55.3743 - mae: 35.2628 - val_loss: 43.6694 - val_mae: 28.0818\n",
            "Epoch 126/200\n",
            "45/45 [==============================] - 12s 274ms/step - loss: 55.3475 - mae: 35.3952 - val_loss: 50.8226 - val_mae: 32.3166\n",
            "Epoch 127/200\n",
            "45/45 [==============================] - 12s 275ms/step - loss: 56.2894 - mae: 35.7971 - val_loss: 52.9089 - val_mae: 33.4633\n",
            "Epoch 128/200\n",
            "45/45 [==============================] - 12s 278ms/step - loss: 58.2995 - mae: 37.1347 - val_loss: 53.7089 - val_mae: 33.9646\n",
            "Epoch 129/200\n",
            "45/45 [==============================] - 12s 278ms/step - loss: 54.0154 - mae: 34.2921 - val_loss: 56.5593 - val_mae: 36.6347\n",
            "Epoch 130/200\n",
            "45/45 [==============================] - 12s 276ms/step - loss: 54.7384 - mae: 34.7027 - val_loss: 54.7988 - val_mae: 34.8089\n",
            "Epoch 131/200\n",
            "45/45 [==============================] - 12s 274ms/step - loss: 59.8025 - mae: 38.0109 - val_loss: 56.4315 - val_mae: 36.5596\n",
            "Epoch 132/200\n",
            "45/45 [==============================] - 12s 279ms/step - loss: 56.8484 - mae: 36.2063 - val_loss: 55.1130 - val_mae: 34.6870\n",
            "Epoch 133/200\n",
            "45/45 [==============================] - 12s 279ms/step - loss: 54.8458 - mae: 34.8810 - val_loss: 47.2169 - val_mae: 29.4516\n",
            "Epoch 134/200\n",
            "45/45 [==============================] - 12s 277ms/step - loss: 54.5159 - mae: 34.7649 - val_loss: 62.4428 - val_mae: 39.5006\n",
            "Epoch 135/200\n",
            "45/45 [==============================] - 12s 275ms/step - loss: 54.2530 - mae: 34.6237 - val_loss: 64.2219 - val_mae: 41.1754\n",
            "Epoch 136/200\n",
            "45/45 [==============================] - 12s 276ms/step - loss: 56.4801 - mae: 35.8348 - val_loss: 53.8670 - val_mae: 34.9805\n",
            "Epoch 137/200\n",
            "45/45 [==============================] - 13s 280ms/step - loss: 51.2290 - mae: 32.5445 - val_loss: 48.0187 - val_mae: 30.4041\n",
            "Epoch 138/200\n",
            "45/45 [==============================] - 13s 280ms/step - loss: 53.4111 - mae: 33.9448 - val_loss: 41.5331 - val_mae: 26.5175\n",
            "Epoch 139/200\n",
            "45/45 [==============================] - 12s 277ms/step - loss: 55.1961 - mae: 35.2535 - val_loss: 45.3777 - val_mae: 29.2811\n",
            "Epoch 140/200\n",
            "45/45 [==============================] - 12s 275ms/step - loss: 52.6934 - mae: 33.6761 - val_loss: 60.6538 - val_mae: 38.3678\n",
            "Epoch 141/200\n",
            "45/45 [==============================] - 12s 277ms/step - loss: 61.0618 - mae: 38.9711 - val_loss: 54.5545 - val_mae: 34.5717\n",
            "Epoch 142/200\n",
            "45/45 [==============================] - 12s 279ms/step - loss: 57.5714 - mae: 36.6173 - val_loss: 55.2583 - val_mae: 35.2319\n",
            "Epoch 143/200\n",
            "45/45 [==============================] - 12s 278ms/step - loss: 56.0909 - mae: 35.5342 - val_loss: 40.3074 - val_mae: 25.4975\n",
            "Epoch 144/200\n",
            "45/45 [==============================] - 12s 275ms/step - loss: 54.0916 - mae: 34.3040 - val_loss: 62.1794 - val_mae: 40.9015\n",
            "Epoch 145/200\n",
            "45/45 [==============================] - 12s 277ms/step - loss: 56.7213 - mae: 35.8032 - val_loss: 57.1046 - val_mae: 35.6848\n",
            "Epoch 146/200\n",
            "45/45 [==============================] - 12s 278ms/step - loss: 54.4709 - mae: 34.5282 - val_loss: 46.1431 - val_mae: 28.6034\n",
            "Epoch 147/200\n",
            "45/45 [==============================] - 12s 278ms/step - loss: 53.1038 - mae: 33.9533 - val_loss: 52.2350 - val_mae: 32.3200\n",
            "Epoch 148/200\n",
            "45/45 [==============================] - 12s 277ms/step - loss: 55.4049 - mae: 35.0475 - val_loss: 65.9543 - val_mae: 42.3129\n",
            "Epoch 149/200\n",
            "45/45 [==============================] - 12s 275ms/step - loss: 52.9485 - mae: 33.5697 - val_loss: 61.4063 - val_mae: 38.8875\n",
            "Epoch 150/200\n",
            "45/45 [==============================] - 12s 275ms/step - loss: 56.1929 - mae: 35.7983 - val_loss: 58.9237 - val_mae: 38.0603\n",
            "Epoch 151/200\n",
            "45/45 [==============================] - 12s 276ms/step - loss: 53.7811 - mae: 34.1220 - val_loss: 54.6013 - val_mae: 35.2089\n",
            "Epoch 152/200\n",
            "45/45 [==============================] - 12s 276ms/step - loss: 55.4650 - mae: 35.2002 - val_loss: 48.2069 - val_mae: 30.8079\n",
            "Epoch 153/200\n",
            "45/45 [==============================] - 12s 276ms/step - loss: 52.9991 - mae: 33.8729 - val_loss: 59.4487 - val_mae: 37.4780\n",
            "Epoch 154/200\n",
            "45/45 [==============================] - 12s 276ms/step - loss: 56.4889 - mae: 35.9295 - val_loss: 60.7842 - val_mae: 38.0205\n",
            "Epoch 155/200\n",
            "45/45 [==============================] - 12s 278ms/step - loss: 56.0032 - mae: 35.7786 - val_loss: 54.6443 - val_mae: 34.3010\n",
            "Epoch 156/200\n",
            "45/45 [==============================] - 12s 276ms/step - loss: 53.9276 - mae: 34.2562 - val_loss: 50.1647 - val_mae: 32.0585\n",
            "Epoch 157/200\n",
            "45/45 [==============================] - 12s 277ms/step - loss: 54.5118 - mae: 34.4906 - val_loss: 54.5714 - val_mae: 35.3584\n",
            "Epoch 158/200\n",
            "45/45 [==============================] - 12s 274ms/step - loss: 51.1363 - mae: 32.7047 - val_loss: 52.6722 - val_mae: 34.1162\n",
            "Epoch 159/200\n",
            "45/45 [==============================] - 12s 278ms/step - loss: 50.1835 - mae: 32.0495 - val_loss: 44.0036 - val_mae: 28.3396\n",
            "Epoch 160/200\n",
            "45/45 [==============================] - 12s 279ms/step - loss: 52.8283 - mae: 33.6422 - val_loss: 53.4101 - val_mae: 33.2435\n",
            "Epoch 161/200\n",
            "45/45 [==============================] - 12s 278ms/step - loss: 52.1652 - mae: 33.1718 - val_loss: 50.7662 - val_mae: 33.0310\n",
            "Epoch 162/200\n",
            "45/45 [==============================] - 12s 276ms/step - loss: 51.2619 - mae: 32.7867 - val_loss: 57.6856 - val_mae: 36.4508\n",
            "Epoch 163/200\n",
            "45/45 [==============================] - 12s 276ms/step - loss: 56.0603 - mae: 35.6225 - val_loss: 66.8982 - val_mae: 41.7681\n",
            "Epoch 164/200\n",
            "45/45 [==============================] - 12s 276ms/step - loss: 52.1110 - mae: 33.0867 - val_loss: 54.8164 - val_mae: 35.5112\n",
            "Epoch 165/200\n",
            "45/45 [==============================] - 12s 278ms/step - loss: 51.6478 - mae: 32.9934 - val_loss: 47.1867 - val_mae: 30.4705\n",
            "Epoch 166/200\n",
            "45/45 [==============================] - 12s 277ms/step - loss: 53.8087 - mae: 34.4097 - val_loss: 51.2765 - val_mae: 32.8423\n",
            "Epoch 167/200\n",
            "45/45 [==============================] - 12s 276ms/step - loss: 54.3220 - mae: 34.5308 - val_loss: 45.5118 - val_mae: 28.9603\n",
            "Epoch 168/200\n",
            "45/45 [==============================] - 12s 277ms/step - loss: 52.3899 - mae: 33.2907 - val_loss: 52.8269 - val_mae: 34.1971\n",
            "Epoch 169/200\n",
            "45/45 [==============================] - 12s 276ms/step - loss: 53.7282 - mae: 34.1837 - val_loss: 51.7790 - val_mae: 32.5540\n",
            "Epoch 170/200\n",
            "45/45 [==============================] - 12s 279ms/step - loss: 57.1461 - mae: 36.6826 - val_loss: 59.9445 - val_mae: 39.1487\n",
            "Epoch 171/200\n",
            "45/45 [==============================] - 12s 276ms/step - loss: 52.1234 - mae: 33.0526 - val_loss: 57.0335 - val_mae: 36.1521\n",
            "Epoch 172/200\n",
            "45/45 [==============================] - 12s 275ms/step - loss: 56.5870 - mae: 36.0056 - val_loss: 58.4433 - val_mae: 38.0000\n",
            "Epoch 173/200\n",
            "45/45 [==============================] - 12s 278ms/step - loss: 55.0012 - mae: 35.2191 - val_loss: 43.3385 - val_mae: 27.1548\n",
            "Epoch 174/200\n",
            "45/45 [==============================] - 12s 278ms/step - loss: 47.1552 - mae: 30.0009 - val_loss: 41.2487 - val_mae: 25.6812\n",
            "Epoch 175/200\n",
            "45/45 [==============================] - 12s 277ms/step - loss: 49.4362 - mae: 31.3759 - val_loss: 56.9809 - val_mae: 36.8981\n",
            "Epoch 176/200\n",
            "45/45 [==============================] - 12s 275ms/step - loss: 47.8599 - mae: 30.5095 - val_loss: 46.9657 - val_mae: 29.3150\n",
            "Epoch 177/200\n",
            "45/45 [==============================] - 12s 277ms/step - loss: 53.1828 - mae: 34.0207 - val_loss: 50.2466 - val_mae: 32.3863\n",
            "Epoch 178/200\n",
            "45/45 [==============================] - 12s 276ms/step - loss: 51.4529 - mae: 32.8357 - val_loss: 52.5518 - val_mae: 33.2083\n",
            "Epoch 179/200\n",
            "45/45 [==============================] - 12s 278ms/step - loss: 52.2102 - mae: 33.1980 - val_loss: 53.9996 - val_mae: 33.3523\n",
            "Epoch 180/200\n",
            "45/45 [==============================] - 12s 277ms/step - loss: 54.1203 - mae: 34.2016 - val_loss: 48.3043 - val_mae: 30.1948\n",
            "Epoch 181/200\n",
            "45/45 [==============================] - 12s 275ms/step - loss: 53.1559 - mae: 33.8753 - val_loss: 50.5707 - val_mae: 32.4700\n",
            "Epoch 182/200\n",
            "45/45 [==============================] - 12s 278ms/step - loss: 53.7007 - mae: 34.4446 - val_loss: 54.1770 - val_mae: 34.2447\n",
            "Epoch 183/200\n",
            "45/45 [==============================] - 12s 278ms/step - loss: 52.3835 - mae: 33.2786 - val_loss: 45.3682 - val_mae: 28.9609\n",
            "Epoch 184/200\n",
            "45/45 [==============================] - 12s 277ms/step - loss: 50.0012 - mae: 31.9995 - val_loss: 55.4854 - val_mae: 35.7913\n",
            "Epoch 185/200\n",
            "45/45 [==============================] - 12s 275ms/step - loss: 52.4667 - mae: 33.4670 - val_loss: 56.6100 - val_mae: 36.5832\n",
            "Epoch 186/200\n",
            "45/45 [==============================] - 12s 277ms/step - loss: 53.6592 - mae: 34.0041 - val_loss: 46.3535 - val_mae: 29.7214\n",
            "Epoch 187/200\n",
            "45/45 [==============================] - 12s 279ms/step - loss: 53.7205 - mae: 34.2330 - val_loss: 49.8703 - val_mae: 31.8854\n",
            "Epoch 188/200\n",
            "45/45 [==============================] - 12s 279ms/step - loss: 53.7663 - mae: 34.3223 - val_loss: 57.0090 - val_mae: 36.8802\n",
            "Epoch 189/200\n",
            "45/45 [==============================] - 12s 277ms/step - loss: 51.7278 - mae: 33.2450 - val_loss: 51.0851 - val_mae: 32.8915\n",
            "Epoch 190/200\n",
            "45/45 [==============================] - 12s 276ms/step - loss: 52.9933 - mae: 33.8749 - val_loss: 50.3942 - val_mae: 31.3858\n",
            "Epoch 191/200\n",
            "45/45 [==============================] - 12s 277ms/step - loss: 49.9339 - mae: 31.6621 - val_loss: 51.0271 - val_mae: 32.4319\n",
            "Epoch 192/200\n",
            "45/45 [==============================] - 12s 277ms/step - loss: 52.6624 - mae: 33.5897 - val_loss: 54.0294 - val_mae: 33.9799\n",
            "Epoch 193/200\n",
            "45/45 [==============================] - 12s 278ms/step - loss: 52.6672 - mae: 33.5298 - val_loss: 54.0671 - val_mae: 34.2213\n",
            "Epoch 194/200\n",
            "45/45 [==============================] - 12s 276ms/step - loss: 48.7428 - mae: 31.1542 - val_loss: 51.5686 - val_mae: 33.2879\n",
            "Epoch 195/200\n",
            "45/45 [==============================] - 12s 275ms/step - loss: 53.7111 - mae: 34.3070 - val_loss: 56.2428 - val_mae: 35.9089\n",
            "Epoch 196/200\n",
            "45/45 [==============================] - 12s 279ms/step - loss: 52.6478 - mae: 33.7172 - val_loss: 46.7660 - val_mae: 29.5378\n",
            "Epoch 197/200\n",
            "45/45 [==============================] - 12s 277ms/step - loss: 52.5762 - mae: 33.5820 - val_loss: 51.5401 - val_mae: 33.2630\n",
            "Epoch 198/200\n",
            "45/45 [==============================] - 12s 277ms/step - loss: 53.3056 - mae: 34.0074 - val_loss: 40.3497 - val_mae: 25.3335\n",
            "Epoch 199/200\n",
            "45/45 [==============================] - 12s 275ms/step - loss: 49.1173 - mae: 31.2626 - val_loss: 58.0390 - val_mae: 38.1104\n",
            "Epoch 200/200\n",
            "45/45 [==============================] - 12s 276ms/step - loss: 52.3548 - mae: 33.0907 - val_loss: 60.0376 - val_mae: 37.2225\n"
          ]
        },
        {
          "output_type": "execute_result",
          "data": {
            "text/plain": [
              "<keras.src.callbacks.History at 0x7de8fceff610>"
            ]
          },
          "metadata": {},
          "execution_count": 52
        }
      ]
    },
    {
      "cell_type": "code",
      "source": [
        "# plot the history of the loss\n",
        "start = 1\n",
        "loss = model.history.history['loss']\n",
        "val_loss = model.history.history['val_loss']\n",
        "plt.plot(loss[start:], label=\"loss\")\n",
        "plt.plot(val_loss[start:], label='val loss')\n",
        "plt.title('Model Loss')\n",
        "plt.xlabel('Epoch')\n",
        "plt.legend()\n"
      ],
      "metadata": {
        "colab": {
          "base_uri": "https://localhost:8080/",
          "height": 490
        },
        "id": "mLW8jhv27FVm",
        "outputId": "c282777f-35b6-46fb-9754-ac65406d6852"
      },
      "execution_count": null,
      "outputs": [
        {
          "output_type": "execute_result",
          "data": {
            "text/plain": [
              "<matplotlib.legend.Legend at 0x7de8fcc7a230>"
            ]
          },
          "metadata": {},
          "execution_count": 53
        },
        {
          "output_type": "display_data",
          "data": {
            "text/plain": [
              "<Figure size 640x480 with 1 Axes>"
            ],
            "image/png": "[encoded data removed]"
          },
          "metadata": {}
        }
      ]
    },
    {
      "cell_type": "code",
      "source": [
        "# test data\n",
        "predictions = model.predict(X_test)\n",
        "mse = np.mean((predictions - y_test)**2)\n",
        "mae = np.mean(np.abs(predictions - y_test))\n",
        "print(\"mse:\", mse, \"mae:\", mae)"
      ],
      "metadata": {
        "colab": {
          "base_uri": "https://localhost:8080/"
        },
        "id": "YDRr4dGYAro3",
        "outputId": "25986174-a802-492a-ce0a-ff5e3ebc10fd"
      },
      "execution_count": null,
      "outputs": [
        {
          "output_type": "stream",
          "name": "stdout",
          "text": [
            "12/12 [==============================] - 4s 217ms/step\n",
            "mse: 2168.7668 mae: 37.22247\n"
          ]
        }
      ]
    },
    {
      "cell_type": "code",
      "source": [
        "# unaugmented test data\n",
        "predictions = model.predict(X_test_noaug)\n",
        "mse = np.mean((predictions - y_test_noaug)**2)\n",
        "mae = np.mean(np.abs(predictions - y_test_noaug))\n",
        "print(\"mse:\", mse, \"mae:\", mae)\n"
      ],
      "metadata": {
        "colab": {
          "base_uri": "https://localhost:8080/"
        },
        "id": "i9DXbPvgBkRR",
        "outputId": "29cc1d5d-94ce-43c8-fa8f-56c2d4e36157"
      },
      "execution_count": null,
      "outputs": [
        {
          "output_type": "stream",
          "name": "stdout",
          "text": [
            "4/4 [==============================] - 1s 206ms/step\n",
            "mse: 1763.1178 mae: 33.69615\n"
          ]
        }
      ]
    },
    {
      "cell_type": "code",
      "source": [
        "# training\n",
        "X = X_train\n",
        "y = y_train\n",
        "predictions = model.predict(X)\n",
        "mse = np.mean((predictions - y)**2)\n",
        "mae = np.mean(np.abs(predictions - y))\n",
        "print(\"mse:\", mse, \"mae:\", mae)"
      ],
      "metadata": {
        "colab": {
          "base_uri": "https://localhost:8080/"
        },
        "id": "4IcIYlR3DJdz",
        "outputId": "fb942b1f-63f1-4e11-a24f-6c4de2d69a3b"
      },
      "execution_count": null,
      "outputs": [
        {
          "output_type": "stream",
          "name": "stdout",
          "text": [
            "45/45 [==============================] - 9s 211ms/step\n",
            "mse: 1736.9086 mae: 32.936623\n"
          ]
        }
      ]
    },
    {
      "cell_type": "code",
      "source": [
        "bm.trainable = True\n",
        "model.summary()"
      ],
      "metadata": {
        "colab": {
          "base_uri": "https://localhost:8080/"
        },
        "id": "hY7aODK7TkVD",
        "outputId": "b5ceeea7-bb56-4788-ad00-380e429c3bcc"
      },
      "execution_count": null,
      "outputs": [
        {
          "output_type": "stream",
          "name": "stdout",
          "text": [
            "Model: \"model_3\"\n",
            "_________________________________________________________________\n",
            " Layer (type)                Output Shape              Param #   \n",
            "=================================================================\n",
            " input_8 (InputLayer)        [(None, 270, 480, 3)]     0         \n",
            "                                                                 \n",
            " resnet50v2 (Functional)     (None, 9, 15, 2048)       23564800  \n",
            "                                                                 \n",
            " flatten_3 (Flatten)         (None, 276480)            0         \n",
            "                                                                 \n",
            " dropout_3 (Dropout)         (None, 276480)            0         \n",
            "                                                                 \n",
            " dense_3 (Dense)             (None, 12)                3317772   \n",
            "                                                                 \n",
            "=================================================================\n",
            "Total params: 26882572 (102.55 MB)\n",
            "Trainable params: 26837132 (102.38 MB)\n",
            "Non-trainable params: 45440 (177.50 KB)\n",
            "_________________________________________________________________\n"
          ]
        }
      ]
    },
    {
      "cell_type": "code",
      "source": [
        "# save weights\n",
        "from google.colab import files\n",
        "filename = 'ResNet50v2_all.h5'\n",
        "model.save_weights(filename)\n",
        "files.download(filename)"
      ],
      "metadata": {
        "id": "Os9x2aeuA1Xq",
        "colab": {
          "base_uri": "https://localhost:8080/",
          "height": 34
        },
        "outputId": "9453a981-d390-43f4-d677-1f7553aaa341"
      },
      "execution_count": null,
      "outputs": [
        {
          "output_type": "display_data",
          "data": {
            "text/plain": [
              "<IPython.core.display.Javascript object>"
            ],
            "application/javascript": [
              "\n",
              "    async function download(id, filename, size) {\n",
              "      if (!google.colab.kernel.accessAllowed) {\n",
              "        return;\n",
              "      }\n",
              "      const div = document.createElement('div');\n",
              "      const label = document.createElement('label');\n",
              "      label.textContent = `Downloading \"${filename}\": `;\n",
              "      div.appendChild(label);\n",
              "      const progress = document.createElement('progress');\n",
              "      progress.max = size;\n",
              "      div.appendChild(progress);\n",
              "      document.body.appendChild(div);\n",
              "\n",
              "      const buffers = [];\n",
              "      let downloaded = 0;\n",
              "\n",
              "      const channel = await google.colab.kernel.comms.open(id);\n",
              "      // Send a message to notify the kernel that we're ready.\n",
              "      channel.send({})\n",
              "\n",
              "      for await (const message of channel.messages) {\n",
              "        // Send a message to notify the kernel that we're ready.\n",
              "        channel.send({})\n",
              "        if (message.buffers) {\n",
              "          for (const buffer of message.buffers) {\n",
              "            buffers.push(buffer);\n",
              "            downloaded += buffer.byteLength;\n",
              "            progress.value = downloaded;\n",
              "          }\n",
              "        }\n",
              "      }\n",
              "      const blob = new Blob(buffers, {type: 'application/binary'});\n",
              "      const a = document.createElement('a');\n",
              "      a.href = window.URL.createObjectURL(blob);\n",
              "      a.download = filename;\n",
              "      div.appendChild(a);\n",
              "      a.click();\n",
              "      div.remove();\n",
              "    }\n",
              "  "
            ]
          },
          "metadata": {}
        },
        {
          "output_type": "display_data",
          "data": {
            "text/plain": [
              "<IPython.core.display.Javascript object>"
            ],
            "application/javascript": [
              "download(\"download_f9f120ad-e67d-4a32-a076-6e736d56583c\", \"ResNet50v2_all.h5\", 107756808)"
            ]
          },
          "metadata": {}
        }
      ]
    }
  ]
}